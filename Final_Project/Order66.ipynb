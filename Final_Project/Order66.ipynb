{
 "cells": [
  {
   "cell_type": "code",
   "execution_count": 2,
   "metadata": {},
   "outputs": [],
   "source": [
    "import numpy as np\n",
    "import os\n",
    "import pandas as pd\n",
    "from sklearn.preprocessing import LabelEncoder"
   ]
  },
  {
   "cell_type": "code",
   "execution_count": 3,
   "metadata": {},
   "outputs": [],
   "source": [
    "car_data = pd.read_excel('C:\\\\Users\\\\zaket\\\\OneDrive\\\\Рабочий стол\\\\Kbtu\\\\Almaty_vv.xlsx')"
   ]
  },
  {
   "cell_type": "code",
   "execution_count": 4,
   "metadata": {},
   "outputs": [
    {
     "data": {
      "text/html": [
       "<div>\n",
       "<style scoped>\n",
       "    .dataframe tbody tr th:only-of-type {\n",
       "        vertical-align: middle;\n",
       "    }\n",
       "\n",
       "    .dataframe tbody tr th {\n",
       "        vertical-align: top;\n",
       "    }\n",
       "\n",
       "    .dataframe thead th {\n",
       "        text-align: right;\n",
       "    }\n",
       "</style>\n",
       "<table border=\"1\" class=\"dataframe\">\n",
       "  <thead>\n",
       "    <tr style=\"text-align: right;\">\n",
       "      <th></th>\n",
       "      <th>City</th>\n",
       "      <th>Mark</th>\n",
       "      <th>Model</th>\n",
       "      <th>Price</th>\n",
       "      <th>Year</th>\n",
       "      <th>Body</th>\n",
       "      <th>EngineSize</th>\n",
       "      <th>FuelType</th>\n",
       "      <th>GearboxType</th>\n",
       "      <th>Mileage</th>\n",
       "      <th>Color</th>\n",
       "    </tr>\n",
       "  </thead>\n",
       "  <tbody>\n",
       "    <tr>\n",
       "      <th>0</th>\n",
       "      <td>Алматы</td>\n",
       "      <td>Toyota</td>\n",
       "      <td>Avensis</td>\n",
       "      <td>4200000</td>\n",
       "      <td>2003</td>\n",
       "      <td>седан</td>\n",
       "      <td>2.0</td>\n",
       "      <td>бензин</td>\n",
       "      <td>автомат</td>\n",
       "      <td>200000</td>\n",
       "      <td>серебристый</td>\n",
       "    </tr>\n",
       "    <tr>\n",
       "      <th>1</th>\n",
       "      <td>Алматы</td>\n",
       "      <td>Mitsubishi</td>\n",
       "      <td>Delica</td>\n",
       "      <td>12500000</td>\n",
       "      <td>2006</td>\n",
       "      <td>микроавтобус</td>\n",
       "      <td>3.0</td>\n",
       "      <td>бензин</td>\n",
       "      <td>автомат</td>\n",
       "      <td>180000</td>\n",
       "      <td>серебристый</td>\n",
       "    </tr>\n",
       "    <tr>\n",
       "      <th>2</th>\n",
       "      <td>Алматы</td>\n",
       "      <td>Infiniti</td>\n",
       "      <td>QX80</td>\n",
       "      <td>28050000</td>\n",
       "      <td>2018</td>\n",
       "      <td>внедорожник</td>\n",
       "      <td>5.6</td>\n",
       "      <td>бензин</td>\n",
       "      <td>автомат</td>\n",
       "      <td>22000</td>\n",
       "      <td>белый</td>\n",
       "    </tr>\n",
       "    <tr>\n",
       "      <th>3</th>\n",
       "      <td>Алматы</td>\n",
       "      <td>Nissan</td>\n",
       "      <td>Patrol</td>\n",
       "      <td>11500000</td>\n",
       "      <td>2012</td>\n",
       "      <td>внедорожник</td>\n",
       "      <td>5.6</td>\n",
       "      <td>бензин</td>\n",
       "      <td>автомат</td>\n",
       "      <td>105000</td>\n",
       "      <td>белый</td>\n",
       "    </tr>\n",
       "    <tr>\n",
       "      <th>4</th>\n",
       "      <td>Алматы</td>\n",
       "      <td>ВАЗ</td>\n",
       "      <td>(Lada)\\tLargus\\tCross</td>\n",
       "      <td>4800000</td>\n",
       "      <td>2019</td>\n",
       "      <td>минивэн</td>\n",
       "      <td>1.6</td>\n",
       "      <td>бензин</td>\n",
       "      <td>механика</td>\n",
       "      <td>90000</td>\n",
       "      <td>черный</td>\n",
       "    </tr>\n",
       "  </tbody>\n",
       "</table>\n",
       "</div>"
      ],
      "text/plain": [
       "     City        Mark                  Model     Price  Year          Body  \\\n",
       "0  Алматы      Toyota                Avensis   4200000  2003         седан   \n",
       "1  Алматы  Mitsubishi                 Delica  12500000  2006  микроавтобус   \n",
       "2  Алматы    Infiniti                   QX80  28050000  2018   внедорожник   \n",
       "3  Алматы      Nissan                 Patrol  11500000  2012   внедорожник   \n",
       "4  Алматы         ВАЗ  (Lada)\\tLargus\\tCross   4800000  2019       минивэн   \n",
       "\n",
       "   EngineSize FuelType GearboxType  Mileage        Color  \n",
       "0         2.0   бензин     автомат   200000  серебристый  \n",
       "1         3.0   бензин     автомат   180000  серебристый  \n",
       "2         5.6   бензин     автомат    22000        белый  \n",
       "3         5.6   бензин     автомат   105000        белый  \n",
       "4         1.6   бензин    механика    90000       черный  "
      ]
     },
     "execution_count": 4,
     "metadata": {},
     "output_type": "execute_result"
    }
   ],
   "source": [
    "car_data.head()"
   ]
  },
  {
   "cell_type": "code",
   "execution_count": 5,
   "metadata": {},
   "outputs": [
    {
     "name": "stdout",
     "output_type": "stream",
     "text": [
      "<class 'pandas.core.frame.DataFrame'>\n",
      "Int64Index: 8660 entries, 0 to 8674\n",
      "Data columns (total 11 columns):\n",
      " #   Column       Non-Null Count  Dtype  \n",
      "---  ------       --------------  -----  \n",
      " 0   City         8660 non-null   object \n",
      " 1   Mark         8660 non-null   object \n",
      " 2   Model        8660 non-null   object \n",
      " 3   Price        8660 non-null   int64  \n",
      " 4   Year         8660 non-null   int64  \n",
      " 5   Body         8660 non-null   object \n",
      " 6   EngineSize   8660 non-null   float64\n",
      " 7   FuelType     8660 non-null   object \n",
      " 8   GearboxType  8660 non-null   object \n",
      " 9   Mileage      8660 non-null   int64  \n",
      " 10  Color        8660 non-null   object \n",
      "dtypes: float64(1), int64(3), object(7)\n",
      "memory usage: 811.9+ KB\n"
     ]
    }
   ],
   "source": [
    "car_data.dropna(subset = ['Model'], inplace = True)\n",
    "car_data.info()"
   ]
  },
  {
   "cell_type": "code",
   "execution_count": 8,
   "metadata": {},
   "outputs": [
    {
     "data": {
      "text/plain": [
       "(8660, 11)"
      ]
     },
     "execution_count": 8,
     "metadata": {},
     "output_type": "execute_result"
    }
   ],
   "source": [
    "car_data.shape"
   ]
  },
  {
   "cell_type": "markdown",
   "metadata": {},
   "source": [
    "# Encoding objects"
   ]
  },
  {
   "cell_type": "code",
   "execution_count": 9,
   "metadata": {},
   "outputs": [],
   "source": [
    "le = LabelEncoder()"
   ]
  },
  {
   "cell_type": "code",
   "execution_count": 10,
   "metadata": {},
   "outputs": [],
   "source": [
    "for column in car_data.columns:\n",
    "    if(car_data[column].dtype == 'object'):\n",
    "        car_data[column] = le.fit_transform(car_data[column])"
   ]
  },
  {
   "cell_type": "code",
   "execution_count": 11,
   "metadata": {},
   "outputs": [
    {
     "data": {
      "text/html": [
       "<div>\n",
       "<style scoped>\n",
       "    .dataframe tbody tr th:only-of-type {\n",
       "        vertical-align: middle;\n",
       "    }\n",
       "\n",
       "    .dataframe tbody tr th {\n",
       "        vertical-align: top;\n",
       "    }\n",
       "\n",
       "    .dataframe thead th {\n",
       "        text-align: right;\n",
       "    }\n",
       "</style>\n",
       "<table border=\"1\" class=\"dataframe\">\n",
       "  <thead>\n",
       "    <tr style=\"text-align: right;\">\n",
       "      <th></th>\n",
       "      <th>City</th>\n",
       "      <th>Mark</th>\n",
       "      <th>Model</th>\n",
       "      <th>Price</th>\n",
       "      <th>Year</th>\n",
       "      <th>Body</th>\n",
       "      <th>EngineSize</th>\n",
       "      <th>FuelType</th>\n",
       "      <th>GearboxType</th>\n",
       "      <th>Mileage</th>\n",
       "      <th>Color</th>\n",
       "    </tr>\n",
       "  </thead>\n",
       "  <tbody>\n",
       "    <tr>\n",
       "      <th>0</th>\n",
       "      <td>0</td>\n",
       "      <td>63</td>\n",
       "      <td>152</td>\n",
       "      <td>4200000</td>\n",
       "      <td>2003</td>\n",
       "      <td>11</td>\n",
       "      <td>2.0</td>\n",
       "      <td>0</td>\n",
       "      <td>0</td>\n",
       "      <td>200000</td>\n",
       "      <td>9</td>\n",
       "    </tr>\n",
       "    <tr>\n",
       "      <th>1</th>\n",
       "      <td>0</td>\n",
       "      <td>44</td>\n",
       "      <td>259</td>\n",
       "      <td>12500000</td>\n",
       "      <td>2006</td>\n",
       "      <td>6</td>\n",
       "      <td>3.0</td>\n",
       "      <td>0</td>\n",
       "      <td>0</td>\n",
       "      <td>180000</td>\n",
       "      <td>9</td>\n",
       "    </tr>\n",
       "    <tr>\n",
       "      <th>2</th>\n",
       "      <td>0</td>\n",
       "      <td>28</td>\n",
       "      <td>574</td>\n",
       "      <td>28050000</td>\n",
       "      <td>2018</td>\n",
       "      <td>0</td>\n",
       "      <td>5.6</td>\n",
       "      <td>0</td>\n",
       "      <td>0</td>\n",
       "      <td>22000</td>\n",
       "      <td>1</td>\n",
       "    </tr>\n",
       "    <tr>\n",
       "      <th>3</th>\n",
       "      <td>0</td>\n",
       "      <td>45</td>\n",
       "      <td>546</td>\n",
       "      <td>11500000</td>\n",
       "      <td>2012</td>\n",
       "      <td>0</td>\n",
       "      <td>5.6</td>\n",
       "      <td>0</td>\n",
       "      <td>0</td>\n",
       "      <td>105000</td>\n",
       "      <td>1</td>\n",
       "    </tr>\n",
       "    <tr>\n",
       "      <th>4</th>\n",
       "      <td>0</td>\n",
       "      <td>66</td>\n",
       "      <td>31</td>\n",
       "      <td>4800000</td>\n",
       "      <td>2019</td>\n",
       "      <td>8</td>\n",
       "      <td>1.6</td>\n",
       "      <td>0</td>\n",
       "      <td>2</td>\n",
       "      <td>90000</td>\n",
       "      <td>14</td>\n",
       "    </tr>\n",
       "    <tr>\n",
       "      <th>...</th>\n",
       "      <td>...</td>\n",
       "      <td>...</td>\n",
       "      <td>...</td>\n",
       "      <td>...</td>\n",
       "      <td>...</td>\n",
       "      <td>...</td>\n",
       "      <td>...</td>\n",
       "      <td>...</td>\n",
       "      <td>...</td>\n",
       "      <td>...</td>\n",
       "      <td>...</td>\n",
       "    </tr>\n",
       "    <tr>\n",
       "      <th>8670</th>\n",
       "      <td>0</td>\n",
       "      <td>66</td>\n",
       "      <td>20</td>\n",
       "      <td>2000000</td>\n",
       "      <td>2015</td>\n",
       "      <td>11</td>\n",
       "      <td>6.0</td>\n",
       "      <td>0</td>\n",
       "      <td>2</td>\n",
       "      <td>85000</td>\n",
       "      <td>1</td>\n",
       "    </tr>\n",
       "    <tr>\n",
       "      <th>8671</th>\n",
       "      <td>0</td>\n",
       "      <td>14</td>\n",
       "      <td>229</td>\n",
       "      <td>3300000</td>\n",
       "      <td>2009</td>\n",
       "      <td>11</td>\n",
       "      <td>3.5</td>\n",
       "      <td>0</td>\n",
       "      <td>0</td>\n",
       "      <td>73000</td>\n",
       "      <td>14</td>\n",
       "    </tr>\n",
       "    <tr>\n",
       "      <th>8672</th>\n",
       "      <td>0</td>\n",
       "      <td>14</td>\n",
       "      <td>487</td>\n",
       "      <td>2900000</td>\n",
       "      <td>2008</td>\n",
       "      <td>12</td>\n",
       "      <td>5.7</td>\n",
       "      <td>0</td>\n",
       "      <td>0</td>\n",
       "      <td>73000</td>\n",
       "      <td>14</td>\n",
       "    </tr>\n",
       "    <tr>\n",
       "      <th>8673</th>\n",
       "      <td>0</td>\n",
       "      <td>10</td>\n",
       "      <td>56</td>\n",
       "      <td>2900000</td>\n",
       "      <td>2009</td>\n",
       "      <td>11</td>\n",
       "      <td>3.5</td>\n",
       "      <td>0</td>\n",
       "      <td>0</td>\n",
       "      <td>72000</td>\n",
       "      <td>14</td>\n",
       "    </tr>\n",
       "    <tr>\n",
       "      <th>8674</th>\n",
       "      <td>0</td>\n",
       "      <td>9</td>\n",
       "      <td>147</td>\n",
       "      <td>3400000</td>\n",
       "      <td>2003</td>\n",
       "      <td>8</td>\n",
       "      <td>4.3</td>\n",
       "      <td>0</td>\n",
       "      <td>0</td>\n",
       "      <td>81000</td>\n",
       "      <td>1</td>\n",
       "    </tr>\n",
       "  </tbody>\n",
       "</table>\n",
       "<p>8660 rows × 11 columns</p>\n",
       "</div>"
      ],
      "text/plain": [
       "      City  Mark  Model     Price  Year  Body  EngineSize  FuelType  \\\n",
       "0        0    63    152   4200000  2003    11         2.0         0   \n",
       "1        0    44    259  12500000  2006     6         3.0         0   \n",
       "2        0    28    574  28050000  2018     0         5.6         0   \n",
       "3        0    45    546  11500000  2012     0         5.6         0   \n",
       "4        0    66     31   4800000  2019     8         1.6         0   \n",
       "...    ...   ...    ...       ...   ...   ...         ...       ...   \n",
       "8670     0    66     20   2000000  2015    11         6.0         0   \n",
       "8671     0    14    229   3300000  2009    11         3.5         0   \n",
       "8672     0    14    487   2900000  2008    12         5.7         0   \n",
       "8673     0    10     56   2900000  2009    11         3.5         0   \n",
       "8674     0     9    147   3400000  2003     8         4.3         0   \n",
       "\n",
       "      GearboxType  Mileage  Color  \n",
       "0               0   200000      9  \n",
       "1               0   180000      9  \n",
       "2               0    22000      1  \n",
       "3               0   105000      1  \n",
       "4               2    90000     14  \n",
       "...           ...      ...    ...  \n",
       "8670            2    85000      1  \n",
       "8671            0    73000     14  \n",
       "8672            0    73000     14  \n",
       "8673            0    72000     14  \n",
       "8674            0    81000      1  \n",
       "\n",
       "[8660 rows x 11 columns]"
      ]
     },
     "execution_count": 11,
     "metadata": {},
     "output_type": "execute_result"
    }
   ],
   "source": [
    "car_data"
   ]
  },
  {
   "cell_type": "markdown",
   "metadata": {},
   "source": [
    "# DATA VISUALISATION"
   ]
  },
  {
   "cell_type": "code",
   "execution_count": 12,
   "metadata": {},
   "outputs": [],
   "source": [
    "import seaborn as sns\n",
    "import matplotlib.pyplot as plt"
   ]
  },
  {
   "cell_type": "code",
   "execution_count": 13,
   "metadata": {},
   "outputs": [
    {
     "name": "stderr",
     "output_type": "stream",
     "text": [
      "C:\\Users\\zaket\\anaconda3\\lib\\site-packages\\seaborn\\distributions.py:2551: FutureWarning: `distplot` is a deprecated function and will be removed in a future version. Please adapt your code to use either `displot` (a figure-level function with similar flexibility) or `histplot` (an axes-level function for histograms).\n",
      "  warnings.warn(msg, FutureWarning)\n"
     ]
    },
    {
     "data": {
      "image/png": "[encoded data removed]",
      "text/plain": [
       "<Figure size 432x288 with 2 Axes>"
      ]
     },
     "metadata": {
      "needs_background": "light"
     },
     "output_type": "display_data"
    }
   ],
   "source": [
    "plt.subplot(1,2,1)\n",
    "plt.title(\"Car Price Spread\")\n",
    "sns.boxplot(y=car_data.Price)\n",
    "\n",
    "plt.subplot(1,2,2)\n",
    "plt.title(\"Car Price Distribution Plot\")\n",
    "sns.distplot(car_data.Price)\n",
    "\n",
    "\n",
    "plt.show()"
   ]
  },
  {
   "cell_type": "markdown",
   "metadata": {},
   "source": [
    "Inference :\n",
    "\n",
    "1.The plot seemed to be right-skewed, meaning that the most prices in the dataset are low(Below 0.5 * 1e8)."
   ]
  },
  {
   "cell_type": "code",
   "execution_count": 14,
   "metadata": {},
   "outputs": [],
   "source": [
    "car_data2 = pd.read_excel('C:\\\\Users\\\\zaket\\\\OneDrive\\\\Рабочий стол\\\\Kbtu\\\\Almaty_vv.xlsx')"
   ]
  },
  {
   "cell_type": "code",
   "execution_count": 15,
   "metadata": {},
   "outputs": [
    {
     "data": {
      "text/plain": [
       "[Text(0.5, 0, 'Car Mark'), Text(0, 0.5, 'Frequency of mark')]"
      ]
     },
     "execution_count": 15,
     "metadata": {},
     "output_type": "execute_result"
    },
    {
     "data": {
      "image/png": "[encoded data removed]",
      "text/plain": [
       "<Figure size 3600x432 with 1 Axes>"
      ]
     },
     "metadata": {
      "needs_background": "light"
     },
     "output_type": "display_data"
    }
   ],
   "source": [
    "plt.figure(figsize=(50, 6))\n",
    "\n",
    "plt.subplot(1,3,1)\n",
    "plt1 = car_data2.Mark.value_counts().plot.bar()\n",
    "plt.title('Cars Mark')\n",
    "plt1.set(xlabel = 'Car Mark', ylabel='Frequency of mark')\n"
   ]
  },
  {
   "cell_type": "markdown",
   "metadata": {},
   "source": [
    "Inference :\n",
    "\n",
    "We see that Toyota seemed to be favored car company."
   ]
  },
  {
   "cell_type": "code",
   "execution_count": 16,
   "metadata": {},
   "outputs": [
    {
     "data": {
      "image/png": "[encoded data removed]",
      "text/plain": [
       "<Figure size 1800x432 with 2 Axes>"
      ]
     },
     "metadata": {
      "needs_background": "light"
     },
     "output_type": "display_data"
    }
   ],
   "source": [
    "plt.figure(figsize=(25, 6))\n",
    "plt.subplot(1,3,2)\n",
    "plt1 = car_data2.FuelType.value_counts().plot.bar()\n",
    "plt.title('Fuel Type Histogram')\n",
    "plt1.set(xlabel = 'Fuel Type', ylabel='Frequency of fuel type')\n",
    "\n",
    "plt.subplot(1,3,3)\n",
    "plt1 = car_data2.Body.value_counts().plot.bar()\n",
    "plt.title('Car Type Histogram')\n",
    "plt1.set(xlabel = 'Car Type', ylabel='Frequency of Car type')\n",
    "\n",
    "plt.show()"
   ]
  },
  {
   "cell_type": "markdown",
   "metadata": {},
   "source": [
    "Number of Benzin fueled cars are more than other fuel type.\n",
    "\n",
    "Sedan is the top car type prefered."
   ]
  },
  {
   "cell_type": "code",
   "execution_count": 17,
   "metadata": {},
   "outputs": [],
   "source": [
    "import matplotlib.pyplot as plt\n",
    "import seaborn as sns"
   ]
  },
  {
   "cell_type": "code",
   "execution_count": 18,
   "metadata": {},
   "outputs": [
    {
     "data": {
      "image/png": "[encoded data removed]",
      "text/plain": [
       "<Figure size 432x288 with 1 Axes>"
      ]
     },
     "metadata": {
      "needs_background": "light"
     },
     "output_type": "display_data"
    },
    {
     "data": {
      "image/png": "[encoded data removed]",
      "text/plain": [
       "<Figure size 432x288 with 1 Axes>"
      ]
     },
     "metadata": {
      "needs_background": "light"
     },
     "output_type": "display_data"
    },
    {
     "data": {
      "image/png": "[encoded data removed]",
      "text/plain": [
       "<Figure size 432x288 with 1 Axes>"
      ]
     },
     "metadata": {
      "needs_background": "light"
     },
     "output_type": "display_data"
    },
    {
     "data": {
      "image/png": "[encoded data removed]",
      "text/plain": [
       "<Figure size 432x288 with 1 Axes>"
      ]
     },
     "metadata": {
      "needs_background": "light"
     },
     "output_type": "display_data"
    }
   ],
   "source": [
    "cols =['Body','GearboxType','FuelType','Color']\n",
    "for col in cols:\n",
    "    sns.barplot(x =col,y ='Price',data=car_data)\n",
    "    plt.show()"
   ]
  },
  {
   "cell_type": "code",
   "execution_count": 19,
   "metadata": {},
   "outputs": [
    {
     "data": {
      "text/plain": [
       "<AxesSubplot:>"
      ]
     },
     "execution_count": 19,
     "metadata": {},
     "output_type": "execute_result"
    },
    {
     "data": {
      "image/png": "[encoded data removed]",
      "text/plain": [
       "<Figure size 1440x1440 with 2 Axes>"
      ]
     },
     "metadata": {
      "needs_background": "light"
     },
     "output_type": "display_data"
    }
   ],
   "source": [
    "plt.figure(figsize = (20,20))\n",
    "sns.heatmap(car_data.corr(),annot=True, cmap='Blues')"
   ]
  },
  {
   "cell_type": "code",
   "execution_count": 20,
   "metadata": {},
   "outputs": [
    {
     "data": {
      "text/plain": [
       "False"
      ]
     },
     "execution_count": 20,
     "metadata": {},
     "output_type": "execute_result"
    }
   ],
   "source": [
    "y=car_data.Price\n",
    "X=car_data[['Mark','Model', 'Year', 'EngineSize', 'FuelType', 'Body', 'GearboxType', 'Mileage', 'Color']]\n",
    "np.isnan(X.values.any())\n",
    "\n",
    "#Z = data[['City', 'Mark', 'Model','Year', 'GearboxType', 'Mileage', 'EngineSize','FuelType', 'Color']]"
   ]
  },
  {
   "cell_type": "markdown",
   "metadata": {},
   "source": [
    "# Random Forest"
   ]
  },
  {
   "cell_type": "code",
   "execution_count": 21,
   "metadata": {},
   "outputs": [],
   "source": [
    "from sklearn.model_selection import train_test_split\n",
    "X_train, X_test, y_train, y_test = train_test_split(X, y, test_size = 0.2, random_state = 365)"
   ]
  },
  {
   "cell_type": "code",
   "execution_count": 22,
   "metadata": {},
   "outputs": [
    {
     "data": {
      "text/plain": [
       "RandomForestRegressor(n_estimators=10, random_state=0)"
      ]
     },
     "execution_count": 22,
     "metadata": {},
     "output_type": "execute_result"
    }
   ],
   "source": [
    "from sklearn.ensemble import RandomForestRegressor\n",
    "regressor = RandomForestRegressor(n_estimators = 10, random_state = 0)\n",
    "regressor.fit(X_train, y_train)"
   ]
  },
  {
   "cell_type": "code",
   "execution_count": 23,
   "metadata": {},
   "outputs": [],
   "source": [
    "y_pred=regressor.predict(X_test)"
   ]
  },
  {
   "cell_type": "code",
   "execution_count": 24,
   "metadata": {},
   "outputs": [
    {
     "data": {
      "text/plain": [
       "0.8313961856514844"
      ]
     },
     "execution_count": 24,
     "metadata": {},
     "output_type": "execute_result"
    }
   ],
   "source": [
    "from sklearn.metrics import r2_score\n",
    "r2_score(y_test, y_pred)"
   ]
  },
  {
   "cell_type": "code",
   "execution_count": 25,
   "metadata": {},
   "outputs": [
    {
     "name": "stderr",
     "output_type": "stream",
     "text": [
      "<ipython-input-25-18944bedb45f>:2: SettingWithCopyWarning: \n",
      "A value is trying to be set on a copy of a slice from a DataFrame.\n",
      "Try using .loc[row_indexer,col_indexer] = value instead\n",
      "\n",
      "See the caveats in the documentation: https://pandas.pydata.org/pandas-docs/stable/user_guide/indexing.html#returning-a-view-versus-a-copy\n",
      "  X_test['actual_price']=y_test\n",
      "<ipython-input-25-18944bedb45f>:3: SettingWithCopyWarning: \n",
      "A value is trying to be set on a copy of a slice from a DataFrame.\n",
      "Try using .loc[row_indexer,col_indexer] = value instead\n",
      "\n",
      "See the caveats in the documentation: https://pandas.pydata.org/pandas-docs/stable/user_guide/indexing.html#returning-a-view-versus-a-copy\n",
      "  X_test['predictions']=predicted\n",
      "<ipython-input-25-18944bedb45f>:5: SettingWithCopyWarning: \n",
      "A value is trying to be set on a copy of a slice from a DataFrame.\n",
      "Try using .loc[row_indexer,col_indexer] = value instead\n",
      "\n",
      "See the caveats in the documentation: https://pandas.pydata.org/pandas-docs/stable/user_guide/indexing.html#returning-a-view-versus-a-copy\n",
      "  X_test['Body']=car_data2['Body']\n",
      "<ipython-input-25-18944bedb45f>:6: SettingWithCopyWarning: \n",
      "A value is trying to be set on a copy of a slice from a DataFrame.\n",
      "Try using .loc[row_indexer,col_indexer] = value instead\n",
      "\n",
      "See the caveats in the documentation: https://pandas.pydata.org/pandas-docs/stable/user_guide/indexing.html#returning-a-view-versus-a-copy\n",
      "  X_test['FuelType']=car_data2['FuelType']\n",
      "<ipython-input-25-18944bedb45f>:7: SettingWithCopyWarning: \n",
      "A value is trying to be set on a copy of a slice from a DataFrame.\n",
      "Try using .loc[row_indexer,col_indexer] = value instead\n",
      "\n",
      "See the caveats in the documentation: https://pandas.pydata.org/pandas-docs/stable/user_guide/indexing.html#returning-a-view-versus-a-copy\n",
      "  X_test['GearboxType']=car_data2['GearboxType']\n",
      "<ipython-input-25-18944bedb45f>:8: SettingWithCopyWarning: \n",
      "A value is trying to be set on a copy of a slice from a DataFrame.\n",
      "Try using .loc[row_indexer,col_indexer] = value instead\n",
      "\n",
      "See the caveats in the documentation: https://pandas.pydata.org/pandas-docs/stable/user_guide/indexing.html#returning-a-view-versus-a-copy\n",
      "  X_test['Color']=car_data2['Color']\n",
      "<ipython-input-25-18944bedb45f>:9: SettingWithCopyWarning: \n",
      "A value is trying to be set on a copy of a slice from a DataFrame.\n",
      "Try using .loc[row_indexer,col_indexer] = value instead\n",
      "\n",
      "See the caveats in the documentation: https://pandas.pydata.org/pandas-docs/stable/user_guide/indexing.html#returning-a-view-versus-a-copy\n",
      "  X_test['Mark']=car_data2['Mark']\n",
      "<ipython-input-25-18944bedb45f>:10: SettingWithCopyWarning: \n",
      "A value is trying to be set on a copy of a slice from a DataFrame.\n",
      "Try using .loc[row_indexer,col_indexer] = value instead\n",
      "\n",
      "See the caveats in the documentation: https://pandas.pydata.org/pandas-docs/stable/user_guide/indexing.html#returning-a-view-versus-a-copy\n",
      "  X_test['Model']=car_data2['Model']\n"
     ]
    },
    {
     "data": {
      "text/html": [
       "<div>\n",
       "<style scoped>\n",
       "    .dataframe tbody tr th:only-of-type {\n",
       "        vertical-align: middle;\n",
       "    }\n",
       "\n",
       "    .dataframe tbody tr th {\n",
       "        vertical-align: top;\n",
       "    }\n",
       "\n",
       "    .dataframe thead th {\n",
       "        text-align: right;\n",
       "    }\n",
       "</style>\n",
       "<table border=\"1\" class=\"dataframe\">\n",
       "  <thead>\n",
       "    <tr style=\"text-align: right;\">\n",
       "      <th></th>\n",
       "      <th>Mark</th>\n",
       "      <th>Model</th>\n",
       "      <th>Year</th>\n",
       "      <th>EngineSize</th>\n",
       "      <th>FuelType</th>\n",
       "      <th>Body</th>\n",
       "      <th>GearboxType</th>\n",
       "      <th>Mileage</th>\n",
       "      <th>Color</th>\n",
       "      <th>actual_price</th>\n",
       "      <th>predictions</th>\n",
       "    </tr>\n",
       "  </thead>\n",
       "  <tbody>\n",
       "    <tr>\n",
       "      <th>2527</th>\n",
       "      <td>Land</td>\n",
       "      <td>Rover\\tFreelander</td>\n",
       "      <td>2014</td>\n",
       "      <td>2.0</td>\n",
       "      <td>бензин</td>\n",
       "      <td>кроссовер</td>\n",
       "      <td>автомат</td>\n",
       "      <td>59000</td>\n",
       "      <td>синий</td>\n",
       "      <td>9700000</td>\n",
       "      <td>13990000.0</td>\n",
       "    </tr>\n",
       "    <tr>\n",
       "      <th>6141</th>\n",
       "      <td>Toyota</td>\n",
       "      <td>Corolla</td>\n",
       "      <td>2011</td>\n",
       "      <td>1.6</td>\n",
       "      <td>бензин</td>\n",
       "      <td>седан</td>\n",
       "      <td>автомат</td>\n",
       "      <td>137500</td>\n",
       "      <td>белый</td>\n",
       "      <td>5400000</td>\n",
       "      <td>6225000.0</td>\n",
       "    </tr>\n",
       "    <tr>\n",
       "      <th>5268</th>\n",
       "      <td>Volkswagen</td>\n",
       "      <td>Golf</td>\n",
       "      <td>1997</td>\n",
       "      <td>1.8</td>\n",
       "      <td>бензин</td>\n",
       "      <td>хэтчбек</td>\n",
       "      <td>механика</td>\n",
       "      <td>240000</td>\n",
       "      <td>синий</td>\n",
       "      <td>1700000</td>\n",
       "      <td>1835000.0</td>\n",
       "    </tr>\n",
       "    <tr>\n",
       "      <th>7910</th>\n",
       "      <td>Subaru</td>\n",
       "      <td>Tribeca</td>\n",
       "      <td>2007</td>\n",
       "      <td>3.6</td>\n",
       "      <td>бензин</td>\n",
       "      <td>кроссовер</td>\n",
       "      <td>автомат</td>\n",
       "      <td>265983</td>\n",
       "      <td>белый</td>\n",
       "      <td>5250000</td>\n",
       "      <td>5839000.0</td>\n",
       "    </tr>\n",
       "    <tr>\n",
       "      <th>3182</th>\n",
       "      <td>Daewoo</td>\n",
       "      <td>Nexia</td>\n",
       "      <td>2013</td>\n",
       "      <td>1.5</td>\n",
       "      <td>бензин</td>\n",
       "      <td>седан</td>\n",
       "      <td>механика</td>\n",
       "      <td>190000</td>\n",
       "      <td>белый</td>\n",
       "      <td>1640000</td>\n",
       "      <td>1760000.0</td>\n",
       "    </tr>\n",
       "  </tbody>\n",
       "</table>\n",
       "</div>"
      ],
      "text/plain": [
       "            Mark              Model  Year  EngineSize FuelType       Body  \\\n",
       "2527        Land  Rover\\tFreelander  2014         2.0   бензин  кроссовер   \n",
       "6141      Toyota            Corolla  2011         1.6   бензин      седан   \n",
       "5268  Volkswagen               Golf  1997         1.8   бензин    хэтчбек   \n",
       "7910      Subaru            Tribeca  2007         3.6   бензин  кроссовер   \n",
       "3182      Daewoo              Nexia  2013         1.5   бензин      седан   \n",
       "\n",
       "     GearboxType  Mileage  Color  actual_price  predictions  \n",
       "2527     автомат    59000  синий       9700000   13990000.0  \n",
       "6141     автомат   137500  белый       5400000    6225000.0  \n",
       "5268    механика   240000  синий       1700000    1835000.0  \n",
       "7910     автомат   265983  белый       5250000    5839000.0  \n",
       "3182    механика   190000  белый       1640000    1760000.0  "
      ]
     },
     "execution_count": 25,
     "metadata": {},
     "output_type": "execute_result"
    }
   ],
   "source": [
    "predicted = regressor.predict(X_test)\n",
    "X_test['actual_price']=y_test\n",
    "X_test['predictions']=predicted\n",
    "\n",
    "X_test['Body']=car_data2['Body']\n",
    "X_test['FuelType']=car_data2['FuelType']\n",
    "X_test['GearboxType']=car_data2['GearboxType']\n",
    "X_test['Color']=car_data2['Color']\n",
    "X_test['Mark']=car_data2['Mark']\n",
    "X_test['Model']=car_data2['Model']\n",
    "X_test.head()"
   ]
  },
  {
   "cell_type": "code",
   "execution_count": 26,
   "metadata": {},
   "outputs": [],
   "source": [
    "# directory = \"C:\\\\Users\\\\zaket\\\\OneDrive\\\\Рабочий стол\\\\Kbtu\"\n",
    "# file = 'Random_forest.xlsx'\n",
    "\n",
    "# if not os.path.exists(directory):\n",
    "#     os.makedirs(directory)\n",
    "\n",
    "# X_test.to_excel(os.path.join(directory, file))"
   ]
  },
  {
   "cell_type": "code",
   "execution_count": 27,
   "metadata": {},
   "outputs": [
    {
     "data": {
      "text/plain": [
       "(1732, 11)"
      ]
     },
     "execution_count": 27,
     "metadata": {},
     "output_type": "execute_result"
    }
   ],
   "source": [
    "X_test.shape"
   ]
  },
  {
   "cell_type": "code",
   "execution_count": 44,
   "metadata": {},
   "outputs": [
    {
     "data": {
      "text/html": [
       "<div>\n",
       "<style scoped>\n",
       "    .dataframe tbody tr th:only-of-type {\n",
       "        vertical-align: middle;\n",
       "    }\n",
       "\n",
       "    .dataframe tbody tr th {\n",
       "        vertical-align: top;\n",
       "    }\n",
       "\n",
       "    .dataframe thead th {\n",
       "        text-align: right;\n",
       "    }\n",
       "</style>\n",
       "<table border=\"1\" class=\"dataframe\">\n",
       "  <thead>\n",
       "    <tr style=\"text-align: right;\">\n",
       "      <th></th>\n",
       "      <th>City</th>\n",
       "      <th>Mark</th>\n",
       "      <th>Model</th>\n",
       "      <th>Price</th>\n",
       "      <th>Year</th>\n",
       "      <th>Body</th>\n",
       "      <th>EngineSize</th>\n",
       "      <th>FuelType</th>\n",
       "      <th>GearboxType</th>\n",
       "      <th>Mileage</th>\n",
       "      <th>Color</th>\n",
       "    </tr>\n",
       "  </thead>\n",
       "  <tbody>\n",
       "    <tr>\n",
       "      <th>0</th>\n",
       "      <td>Алматы</td>\n",
       "      <td>Toyota</td>\n",
       "      <td>Avensis</td>\n",
       "      <td>4200000</td>\n",
       "      <td>2003</td>\n",
       "      <td>седан</td>\n",
       "      <td>2.0</td>\n",
       "      <td>бензин</td>\n",
       "      <td>автомат</td>\n",
       "      <td>200000</td>\n",
       "      <td>серебристый</td>\n",
       "    </tr>\n",
       "    <tr>\n",
       "      <th>1</th>\n",
       "      <td>Алматы</td>\n",
       "      <td>Mitsubishi</td>\n",
       "      <td>Delica</td>\n",
       "      <td>12500000</td>\n",
       "      <td>2006</td>\n",
       "      <td>микроавтобус</td>\n",
       "      <td>3.0</td>\n",
       "      <td>бензин</td>\n",
       "      <td>автомат</td>\n",
       "      <td>180000</td>\n",
       "      <td>серебристый</td>\n",
       "    </tr>\n",
       "    <tr>\n",
       "      <th>2</th>\n",
       "      <td>Алматы</td>\n",
       "      <td>Infiniti</td>\n",
       "      <td>QX80</td>\n",
       "      <td>28050000</td>\n",
       "      <td>2018</td>\n",
       "      <td>внедорожник</td>\n",
       "      <td>5.6</td>\n",
       "      <td>бензин</td>\n",
       "      <td>автомат</td>\n",
       "      <td>22000</td>\n",
       "      <td>белый</td>\n",
       "    </tr>\n",
       "    <tr>\n",
       "      <th>3</th>\n",
       "      <td>Алматы</td>\n",
       "      <td>Nissan</td>\n",
       "      <td>Patrol</td>\n",
       "      <td>11500000</td>\n",
       "      <td>2012</td>\n",
       "      <td>внедорожник</td>\n",
       "      <td>5.6</td>\n",
       "      <td>бензин</td>\n",
       "      <td>автомат</td>\n",
       "      <td>105000</td>\n",
       "      <td>белый</td>\n",
       "    </tr>\n",
       "    <tr>\n",
       "      <th>4</th>\n",
       "      <td>Алматы</td>\n",
       "      <td>ВАЗ</td>\n",
       "      <td>(Lada)\\tLargus\\tCross</td>\n",
       "      <td>4800000</td>\n",
       "      <td>2019</td>\n",
       "      <td>минивэн</td>\n",
       "      <td>1.6</td>\n",
       "      <td>бензин</td>\n",
       "      <td>механика</td>\n",
       "      <td>90000</td>\n",
       "      <td>черный</td>\n",
       "    </tr>\n",
       "    <tr>\n",
       "      <th>...</th>\n",
       "      <td>...</td>\n",
       "      <td>...</td>\n",
       "      <td>...</td>\n",
       "      <td>...</td>\n",
       "      <td>...</td>\n",
       "      <td>...</td>\n",
       "      <td>...</td>\n",
       "      <td>...</td>\n",
       "      <td>...</td>\n",
       "      <td>...</td>\n",
       "      <td>...</td>\n",
       "    </tr>\n",
       "    <tr>\n",
       "      <th>8670</th>\n",
       "      <td>Алматы</td>\n",
       "      <td>ВАЗ</td>\n",
       "      <td>(Lada)\\t2170\\t(седан)</td>\n",
       "      <td>2000000</td>\n",
       "      <td>2015</td>\n",
       "      <td>седан</td>\n",
       "      <td>6.0</td>\n",
       "      <td>бензин</td>\n",
       "      <td>механика</td>\n",
       "      <td>85000</td>\n",
       "      <td>белый</td>\n",
       "    </tr>\n",
       "    <tr>\n",
       "      <th>8671</th>\n",
       "      <td>Алматы</td>\n",
       "      <td>Dodge</td>\n",
       "      <td>Charger</td>\n",
       "      <td>3300000</td>\n",
       "      <td>2009</td>\n",
       "      <td>седан</td>\n",
       "      <td>3.5</td>\n",
       "      <td>бензин</td>\n",
       "      <td>автомат</td>\n",
       "      <td>73000</td>\n",
       "      <td>черный</td>\n",
       "    </tr>\n",
       "    <tr>\n",
       "      <th>8672</th>\n",
       "      <td>Алматы</td>\n",
       "      <td>Dodge</td>\n",
       "      <td>Magnum</td>\n",
       "      <td>2900000</td>\n",
       "      <td>2008</td>\n",
       "      <td>универсал</td>\n",
       "      <td>5.7</td>\n",
       "      <td>бензин</td>\n",
       "      <td>автомат</td>\n",
       "      <td>73000</td>\n",
       "      <td>черный</td>\n",
       "    </tr>\n",
       "    <tr>\n",
       "      <th>8673</th>\n",
       "      <td>Алматы</td>\n",
       "      <td>Chrysler</td>\n",
       "      <td>300C</td>\n",
       "      <td>2900000</td>\n",
       "      <td>2009</td>\n",
       "      <td>седан</td>\n",
       "      <td>3.5</td>\n",
       "      <td>бензин</td>\n",
       "      <td>автомат</td>\n",
       "      <td>72000</td>\n",
       "      <td>черный</td>\n",
       "    </tr>\n",
       "    <tr>\n",
       "      <th>8674</th>\n",
       "      <td>Алматы</td>\n",
       "      <td>Chevrolet</td>\n",
       "      <td>Astro</td>\n",
       "      <td>3400000</td>\n",
       "      <td>2003</td>\n",
       "      <td>минивэн</td>\n",
       "      <td>4.3</td>\n",
       "      <td>бензин</td>\n",
       "      <td>автомат</td>\n",
       "      <td>81000</td>\n",
       "      <td>белый</td>\n",
       "    </tr>\n",
       "  </tbody>\n",
       "</table>\n",
       "<p>8675 rows × 11 columns</p>\n",
       "</div>"
      ],
      "text/plain": [
       "        City        Mark                  Model     Price  Year          Body  \\\n",
       "0     Алматы      Toyota                Avensis   4200000  2003         седан   \n",
       "1     Алматы  Mitsubishi                 Delica  12500000  2006  микроавтобус   \n",
       "2     Алматы    Infiniti                   QX80  28050000  2018   внедорожник   \n",
       "3     Алматы      Nissan                 Patrol  11500000  2012   внедорожник   \n",
       "4     Алматы         ВАЗ  (Lada)\\tLargus\\tCross   4800000  2019       минивэн   \n",
       "...      ...         ...                    ...       ...   ...           ...   \n",
       "8670  Алматы         ВАЗ  (Lada)\\t2170\\t(седан)   2000000  2015         седан   \n",
       "8671  Алматы       Dodge                Charger   3300000  2009         седан   \n",
       "8672  Алматы       Dodge                 Magnum   2900000  2008     универсал   \n",
       "8673  Алматы    Chrysler                   300C   2900000  2009         седан   \n",
       "8674  Алматы   Chevrolet                  Astro   3400000  2003       минивэн   \n",
       "\n",
       "      EngineSize FuelType GearboxType  Mileage        Color  \n",
       "0            2.0   бензин     автомат   200000  серебристый  \n",
       "1            3.0   бензин     автомат   180000  серебристый  \n",
       "2            5.6   бензин     автомат    22000        белый  \n",
       "3            5.6   бензин     автомат   105000        белый  \n",
       "4            1.6   бензин    механика    90000       черный  \n",
       "...          ...      ...         ...      ...          ...  \n",
       "8670         6.0   бензин    механика    85000        белый  \n",
       "8671         3.5   бензин     автомат    73000       черный  \n",
       "8672         5.7   бензин     автомат    73000       черный  \n",
       "8673         3.5   бензин     автомат    72000       черный  \n",
       "8674         4.3   бензин     автомат    81000        белый  \n",
       "\n",
       "[8675 rows x 11 columns]"
      ]
     },
     "execution_count": 44,
     "metadata": {},
     "output_type": "execute_result"
    }
   ],
   "source": [
    "car_data2"
   ]
  },
  {
   "cell_type": "markdown",
   "metadata": {},
   "source": [
    "# XGBOOST"
   ]
  },
  {
   "cell_type": "code",
   "execution_count": 73,
   "metadata": {},
   "outputs": [
    {
     "data": {
      "text/plain": [
       "False"
      ]
     },
     "execution_count": 73,
     "metadata": {},
     "output_type": "execute_result"
    }
   ],
   "source": [
    "y_xg=car_data.Price\n",
    "X_xg=car_data[['Mark','Model', 'Year', 'EngineSize', 'FuelType', 'Body', 'GearboxType', 'Mileage', 'Color']]\n",
    "np.isnan(X.values.any())\n",
    "\n",
    "#Z = data[['City', 'Mark', 'Model','Year', 'GearboxType', 'Mileage', 'EngineSize','FuelType', 'Color']]"
   ]
  },
  {
   "cell_type": "code",
   "execution_count": 74,
   "metadata": {},
   "outputs": [],
   "source": [
    "from sklearn.model_selection import train_test_split\n",
    "X_train, X_test, y_train, y_test = train_test_split(X_xg, y_xg, test_size = 0.2, random_state = 365)"
   ]
  },
  {
   "cell_type": "code",
   "execution_count": 75,
   "metadata": {},
   "outputs": [],
   "source": [
    "from xgboost import XGBRegressor\n",
    "\n",
    "xgb = XGBRegressor(n_estimators=1000, learning_rate=0.1)\n",
    "xgb.fit(X_train, y_train, early_stopping_rounds=5, eval_set=[(X_test, y_test)], verbose=False)\n",
    "y_pred_xgb = xgb.predict(X_test)\n",
    "\n",
    "#r_squared = r2_score(y_test,y_pred_xgb)\n",
    "#rmse = np.sqrt(mean_squared_error(y_test,y_pred_xgb))\n",
    "#print(\"R_squared :\",r_squared)\n",
    "#print(\"RMSE :\",rmse)"
   ]
  },
  {
   "cell_type": "code",
   "execution_count": 76,
   "metadata": {},
   "outputs": [
    {
     "data": {
      "text/plain": [
       "0.9031754676787723"
      ]
     },
     "execution_count": 76,
     "metadata": {},
     "output_type": "execute_result"
    }
   ],
   "source": [
    "from sklearn.metrics import r2_score\n",
    "r2_score(y_test, y_pred_xgb)"
   ]
  },
  {
   "cell_type": "code",
   "execution_count": 77,
   "metadata": {},
   "outputs": [
    {
     "data": {
      "text/html": [
       "<div>\n",
       "<style scoped>\n",
       "    .dataframe tbody tr th:only-of-type {\n",
       "        vertical-align: middle;\n",
       "    }\n",
       "\n",
       "    .dataframe tbody tr th {\n",
       "        vertical-align: top;\n",
       "    }\n",
       "\n",
       "    .dataframe thead th {\n",
       "        text-align: right;\n",
       "    }\n",
       "</style>\n",
       "<table border=\"1\" class=\"dataframe\">\n",
       "  <thead>\n",
       "    <tr style=\"text-align: right;\">\n",
       "      <th></th>\n",
       "      <th>City</th>\n",
       "      <th>Mark</th>\n",
       "      <th>Model</th>\n",
       "      <th>Price</th>\n",
       "      <th>Year</th>\n",
       "      <th>Body</th>\n",
       "      <th>EngineSize</th>\n",
       "      <th>FuelType</th>\n",
       "      <th>GearboxType</th>\n",
       "      <th>Mileage</th>\n",
       "      <th>Color</th>\n",
       "    </tr>\n",
       "  </thead>\n",
       "  <tbody>\n",
       "    <tr>\n",
       "      <th>0</th>\n",
       "      <td>0</td>\n",
       "      <td>63</td>\n",
       "      <td>152</td>\n",
       "      <td>4200000</td>\n",
       "      <td>2003</td>\n",
       "      <td>11</td>\n",
       "      <td>2.0</td>\n",
       "      <td>0</td>\n",
       "      <td>0</td>\n",
       "      <td>200000</td>\n",
       "      <td>9</td>\n",
       "    </tr>\n",
       "    <tr>\n",
       "      <th>1</th>\n",
       "      <td>0</td>\n",
       "      <td>44</td>\n",
       "      <td>259</td>\n",
       "      <td>12500000</td>\n",
       "      <td>2006</td>\n",
       "      <td>6</td>\n",
       "      <td>3.0</td>\n",
       "      <td>0</td>\n",
       "      <td>0</td>\n",
       "      <td>180000</td>\n",
       "      <td>9</td>\n",
       "    </tr>\n",
       "    <tr>\n",
       "      <th>2</th>\n",
       "      <td>0</td>\n",
       "      <td>28</td>\n",
       "      <td>574</td>\n",
       "      <td>28050000</td>\n",
       "      <td>2018</td>\n",
       "      <td>0</td>\n",
       "      <td>5.6</td>\n",
       "      <td>0</td>\n",
       "      <td>0</td>\n",
       "      <td>22000</td>\n",
       "      <td>1</td>\n",
       "    </tr>\n",
       "    <tr>\n",
       "      <th>3</th>\n",
       "      <td>0</td>\n",
       "      <td>45</td>\n",
       "      <td>546</td>\n",
       "      <td>11500000</td>\n",
       "      <td>2012</td>\n",
       "      <td>0</td>\n",
       "      <td>5.6</td>\n",
       "      <td>0</td>\n",
       "      <td>0</td>\n",
       "      <td>105000</td>\n",
       "      <td>1</td>\n",
       "    </tr>\n",
       "    <tr>\n",
       "      <th>4</th>\n",
       "      <td>0</td>\n",
       "      <td>66</td>\n",
       "      <td>31</td>\n",
       "      <td>4800000</td>\n",
       "      <td>2019</td>\n",
       "      <td>8</td>\n",
       "      <td>1.6</td>\n",
       "      <td>0</td>\n",
       "      <td>2</td>\n",
       "      <td>90000</td>\n",
       "      <td>14</td>\n",
       "    </tr>\n",
       "    <tr>\n",
       "      <th>...</th>\n",
       "      <td>...</td>\n",
       "      <td>...</td>\n",
       "      <td>...</td>\n",
       "      <td>...</td>\n",
       "      <td>...</td>\n",
       "      <td>...</td>\n",
       "      <td>...</td>\n",
       "      <td>...</td>\n",
       "      <td>...</td>\n",
       "      <td>...</td>\n",
       "      <td>...</td>\n",
       "    </tr>\n",
       "    <tr>\n",
       "      <th>8670</th>\n",
       "      <td>0</td>\n",
       "      <td>66</td>\n",
       "      <td>20</td>\n",
       "      <td>2000000</td>\n",
       "      <td>2015</td>\n",
       "      <td>11</td>\n",
       "      <td>6.0</td>\n",
       "      <td>0</td>\n",
       "      <td>2</td>\n",
       "      <td>85000</td>\n",
       "      <td>1</td>\n",
       "    </tr>\n",
       "    <tr>\n",
       "      <th>8671</th>\n",
       "      <td>0</td>\n",
       "      <td>14</td>\n",
       "      <td>229</td>\n",
       "      <td>3300000</td>\n",
       "      <td>2009</td>\n",
       "      <td>11</td>\n",
       "      <td>3.5</td>\n",
       "      <td>0</td>\n",
       "      <td>0</td>\n",
       "      <td>73000</td>\n",
       "      <td>14</td>\n",
       "    </tr>\n",
       "    <tr>\n",
       "      <th>8672</th>\n",
       "      <td>0</td>\n",
       "      <td>14</td>\n",
       "      <td>487</td>\n",
       "      <td>2900000</td>\n",
       "      <td>2008</td>\n",
       "      <td>12</td>\n",
       "      <td>5.7</td>\n",
       "      <td>0</td>\n",
       "      <td>0</td>\n",
       "      <td>73000</td>\n",
       "      <td>14</td>\n",
       "    </tr>\n",
       "    <tr>\n",
       "      <th>8673</th>\n",
       "      <td>0</td>\n",
       "      <td>10</td>\n",
       "      <td>56</td>\n",
       "      <td>2900000</td>\n",
       "      <td>2009</td>\n",
       "      <td>11</td>\n",
       "      <td>3.5</td>\n",
       "      <td>0</td>\n",
       "      <td>0</td>\n",
       "      <td>72000</td>\n",
       "      <td>14</td>\n",
       "    </tr>\n",
       "    <tr>\n",
       "      <th>8674</th>\n",
       "      <td>0</td>\n",
       "      <td>9</td>\n",
       "      <td>147</td>\n",
       "      <td>3400000</td>\n",
       "      <td>2003</td>\n",
       "      <td>8</td>\n",
       "      <td>4.3</td>\n",
       "      <td>0</td>\n",
       "      <td>0</td>\n",
       "      <td>81000</td>\n",
       "      <td>1</td>\n",
       "    </tr>\n",
       "  </tbody>\n",
       "</table>\n",
       "<p>8660 rows × 11 columns</p>\n",
       "</div>"
      ],
      "text/plain": [
       "      City  Mark  Model     Price  Year  Body  EngineSize  FuelType  \\\n",
       "0        0    63    152   4200000  2003    11         2.0         0   \n",
       "1        0    44    259  12500000  2006     6         3.0         0   \n",
       "2        0    28    574  28050000  2018     0         5.6         0   \n",
       "3        0    45    546  11500000  2012     0         5.6         0   \n",
       "4        0    66     31   4800000  2019     8         1.6         0   \n",
       "...    ...   ...    ...       ...   ...   ...         ...       ...   \n",
       "8670     0    66     20   2000000  2015    11         6.0         0   \n",
       "8671     0    14    229   3300000  2009    11         3.5         0   \n",
       "8672     0    14    487   2900000  2008    12         5.7         0   \n",
       "8673     0    10     56   2900000  2009    11         3.5         0   \n",
       "8674     0     9    147   3400000  2003     8         4.3         0   \n",
       "\n",
       "      GearboxType  Mileage  Color  \n",
       "0               0   200000      9  \n",
       "1               0   180000      9  \n",
       "2               0    22000      1  \n",
       "3               0   105000      1  \n",
       "4               2    90000     14  \n",
       "...           ...      ...    ...  \n",
       "8670            2    85000      1  \n",
       "8671            0    73000     14  \n",
       "8672            0    73000     14  \n",
       "8673            0    72000     14  \n",
       "8674            0    81000      1  \n",
       "\n",
       "[8660 rows x 11 columns]"
      ]
     },
     "execution_count": 77,
     "metadata": {},
     "output_type": "execute_result"
    }
   ],
   "source": [
    "car_data"
   ]
  },
  {
   "cell_type": "code",
   "execution_count": 78,
   "metadata": {},
   "outputs": [
    {
     "name": "stderr",
     "output_type": "stream",
     "text": [
      "<ipython-input-78-e95679f51b4a>:2: SettingWithCopyWarning: \n",
      "A value is trying to be set on a copy of a slice from a DataFrame.\n",
      "Try using .loc[row_indexer,col_indexer] = value instead\n",
      "\n",
      "See the caveats in the documentation: https://pandas.pydata.org/pandas-docs/stable/user_guide/indexing.html#returning-a-view-versus-a-copy\n",
      "  X_test['actual_price']=y_test\n",
      "<ipython-input-78-e95679f51b4a>:3: SettingWithCopyWarning: \n",
      "A value is trying to be set on a copy of a slice from a DataFrame.\n",
      "Try using .loc[row_indexer,col_indexer] = value instead\n",
      "\n",
      "See the caveats in the documentation: https://pandas.pydata.org/pandas-docs/stable/user_guide/indexing.html#returning-a-view-versus-a-copy\n",
      "  X_test['predictions']=predicted_xgb\n",
      "<ipython-input-78-e95679f51b4a>:5: SettingWithCopyWarning: \n",
      "A value is trying to be set on a copy of a slice from a DataFrame.\n",
      "Try using .loc[row_indexer,col_indexer] = value instead\n",
      "\n",
      "See the caveats in the documentation: https://pandas.pydata.org/pandas-docs/stable/user_guide/indexing.html#returning-a-view-versus-a-copy\n",
      "  X_test['Body']=car_data2['Body']\n",
      "<ipython-input-78-e95679f51b4a>:6: SettingWithCopyWarning: \n",
      "A value is trying to be set on a copy of a slice from a DataFrame.\n",
      "Try using .loc[row_indexer,col_indexer] = value instead\n",
      "\n",
      "See the caveats in the documentation: https://pandas.pydata.org/pandas-docs/stable/user_guide/indexing.html#returning-a-view-versus-a-copy\n",
      "  X_test['FuelType']=car_data2['FuelType']\n",
      "<ipython-input-78-e95679f51b4a>:7: SettingWithCopyWarning: \n",
      "A value is trying to be set on a copy of a slice from a DataFrame.\n",
      "Try using .loc[row_indexer,col_indexer] = value instead\n",
      "\n",
      "See the caveats in the documentation: https://pandas.pydata.org/pandas-docs/stable/user_guide/indexing.html#returning-a-view-versus-a-copy\n",
      "  X_test['GearboxType']=car_data2['GearboxType']\n",
      "<ipython-input-78-e95679f51b4a>:8: SettingWithCopyWarning: \n",
      "A value is trying to be set on a copy of a slice from a DataFrame.\n",
      "Try using .loc[row_indexer,col_indexer] = value instead\n",
      "\n",
      "See the caveats in the documentation: https://pandas.pydata.org/pandas-docs/stable/user_guide/indexing.html#returning-a-view-versus-a-copy\n",
      "  X_test['Color']=car_data2['Color']\n",
      "<ipython-input-78-e95679f51b4a>:9: SettingWithCopyWarning: \n",
      "A value is trying to be set on a copy of a slice from a DataFrame.\n",
      "Try using .loc[row_indexer,col_indexer] = value instead\n",
      "\n",
      "See the caveats in the documentation: https://pandas.pydata.org/pandas-docs/stable/user_guide/indexing.html#returning-a-view-versus-a-copy\n",
      "  X_test['Mark']=car_data2['Mark']\n",
      "<ipython-input-78-e95679f51b4a>:10: SettingWithCopyWarning: \n",
      "A value is trying to be set on a copy of a slice from a DataFrame.\n",
      "Try using .loc[row_indexer,col_indexer] = value instead\n",
      "\n",
      "See the caveats in the documentation: https://pandas.pydata.org/pandas-docs/stable/user_guide/indexing.html#returning-a-view-versus-a-copy\n",
      "  X_test['Model']=car_data2['Model']\n"
     ]
    },
    {
     "data": {
      "text/html": [
       "<div>\n",
       "<style scoped>\n",
       "    .dataframe tbody tr th:only-of-type {\n",
       "        vertical-align: middle;\n",
       "    }\n",
       "\n",
       "    .dataframe tbody tr th {\n",
       "        vertical-align: top;\n",
       "    }\n",
       "\n",
       "    .dataframe thead th {\n",
       "        text-align: right;\n",
       "    }\n",
       "</style>\n",
       "<table border=\"1\" class=\"dataframe\">\n",
       "  <thead>\n",
       "    <tr style=\"text-align: right;\">\n",
       "      <th></th>\n",
       "      <th>Mark</th>\n",
       "      <th>Model</th>\n",
       "      <th>Year</th>\n",
       "      <th>EngineSize</th>\n",
       "      <th>FuelType</th>\n",
       "      <th>Body</th>\n",
       "      <th>GearboxType</th>\n",
       "      <th>Mileage</th>\n",
       "      <th>Color</th>\n",
       "      <th>actual_price</th>\n",
       "      <th>predictions</th>\n",
       "    </tr>\n",
       "  </thead>\n",
       "  <tbody>\n",
       "    <tr>\n",
       "      <th>2527</th>\n",
       "      <td>Land</td>\n",
       "      <td>Rover\\tFreelander</td>\n",
       "      <td>2014</td>\n",
       "      <td>2.0</td>\n",
       "      <td>бензин</td>\n",
       "      <td>кроссовер</td>\n",
       "      <td>автомат</td>\n",
       "      <td>59000</td>\n",
       "      <td>синий</td>\n",
       "      <td>9700000</td>\n",
       "      <td>1.464440e+07</td>\n",
       "    </tr>\n",
       "    <tr>\n",
       "      <th>6141</th>\n",
       "      <td>Toyota</td>\n",
       "      <td>Corolla</td>\n",
       "      <td>2011</td>\n",
       "      <td>1.6</td>\n",
       "      <td>бензин</td>\n",
       "      <td>седан</td>\n",
       "      <td>автомат</td>\n",
       "      <td>137500</td>\n",
       "      <td>белый</td>\n",
       "      <td>5400000</td>\n",
       "      <td>5.460000e+06</td>\n",
       "    </tr>\n",
       "    <tr>\n",
       "      <th>5268</th>\n",
       "      <td>Volkswagen</td>\n",
       "      <td>Golf</td>\n",
       "      <td>1997</td>\n",
       "      <td>1.8</td>\n",
       "      <td>бензин</td>\n",
       "      <td>хэтчбек</td>\n",
       "      <td>механика</td>\n",
       "      <td>240000</td>\n",
       "      <td>синий</td>\n",
       "      <td>1700000</td>\n",
       "      <td>1.817381e+06</td>\n",
       "    </tr>\n",
       "    <tr>\n",
       "      <th>7910</th>\n",
       "      <td>Subaru</td>\n",
       "      <td>Tribeca</td>\n",
       "      <td>2007</td>\n",
       "      <td>3.6</td>\n",
       "      <td>бензин</td>\n",
       "      <td>кроссовер</td>\n",
       "      <td>автомат</td>\n",
       "      <td>265983</td>\n",
       "      <td>белый</td>\n",
       "      <td>5250000</td>\n",
       "      <td>5.880989e+06</td>\n",
       "    </tr>\n",
       "    <tr>\n",
       "      <th>3182</th>\n",
       "      <td>Daewoo</td>\n",
       "      <td>Nexia</td>\n",
       "      <td>2013</td>\n",
       "      <td>1.5</td>\n",
       "      <td>бензин</td>\n",
       "      <td>седан</td>\n",
       "      <td>механика</td>\n",
       "      <td>190000</td>\n",
       "      <td>белый</td>\n",
       "      <td>1640000</td>\n",
       "      <td>1.612158e+06</td>\n",
       "    </tr>\n",
       "  </tbody>\n",
       "</table>\n",
       "</div>"
      ],
      "text/plain": [
       "            Mark              Model  Year  EngineSize FuelType       Body  \\\n",
       "2527        Land  Rover\\tFreelander  2014         2.0   бензин  кроссовер   \n",
       "6141      Toyota            Corolla  2011         1.6   бензин      седан   \n",
       "5268  Volkswagen               Golf  1997         1.8   бензин    хэтчбек   \n",
       "7910      Subaru            Tribeca  2007         3.6   бензин  кроссовер   \n",
       "3182      Daewoo              Nexia  2013         1.5   бензин      седан   \n",
       "\n",
       "     GearboxType  Mileage  Color  actual_price   predictions  \n",
       "2527     автомат    59000  синий       9700000  1.464440e+07  \n",
       "6141     автомат   137500  белый       5400000  5.460000e+06  \n",
       "5268    механика   240000  синий       1700000  1.817381e+06  \n",
       "7910     автомат   265983  белый       5250000  5.880989e+06  \n",
       "3182    механика   190000  белый       1640000  1.612158e+06  "
      ]
     },
     "execution_count": 78,
     "metadata": {},
     "output_type": "execute_result"
    }
   ],
   "source": [
    "\n",
    "predicted_xgb = xgb.predict(X_test)\n",
    "X_test['actual_price']=y_test\n",
    "X_test['predictions']=predicted_xgb\n",
    "\n",
    "X_test['Body']=car_data2['Body']\n",
    "X_test['FuelType']=car_data2['FuelType']\n",
    "X_test['GearboxType']=car_data2['GearboxType']\n",
    "X_test['Color']=car_data2['Color']\n",
    "X_test['Mark']=car_data2['Mark']\n",
    "X_test['Model']=car_data2['Model']\n",
    "X_test.head()"
   ]
  },
  {
   "cell_type": "code",
   "execution_count": 79,
   "metadata": {},
   "outputs": [],
   "source": [
    "# directory = \"C:\\\\Users\\\\zaket\\\\OneDrive\\\\Рабочий стол\\\\Kbtu\"\n",
    "# file = 'XGBoost.xlsx'\n",
    "\n",
    "# if not os.path.exists(directory):\n",
    "#     os.makedirs(directory)\n",
    "\n",
    "# X_test.to_excel(os.path.join(directory, file))"
   ]
  },
  {
   "cell_type": "code",
   "execution_count": 65,
   "metadata": {},
   "outputs": [
    {
     "data": {
      "text/plain": [
       "(1732, 11)"
      ]
     },
     "execution_count": 65,
     "metadata": {},
     "output_type": "execute_result"
    }
   ],
   "source": [
    "X_test.shape"
   ]
  },
  {
   "cell_type": "markdown",
   "metadata": {},
   "source": [
    "# KNN"
   ]
  },
  {
   "cell_type": "code",
   "execution_count": 80,
   "metadata": {},
   "outputs": [
    {
     "data": {
      "text/plain": [
       "False"
      ]
     },
     "execution_count": 80,
     "metadata": {},
     "output_type": "execute_result"
    }
   ],
   "source": [
    "y_knn=car_data.Price\n",
    "X_knn=car_data[['Mark','Model', 'Year', 'EngineSize', 'FuelType', 'Body', 'GearboxType', 'Mileage', 'Color']]\n",
    "np.isnan(X.values.any())"
   ]
  },
  {
   "cell_type": "code",
   "execution_count": 81,
   "metadata": {},
   "outputs": [],
   "source": [
    "from sklearn.model_selection import train_test_split\n",
    "X_train, X_test, y_train, y_test = train_test_split(X_knn, y_knn, test_size = 0.2, random_state = 365)"
   ]
  },
  {
   "cell_type": "code",
   "execution_count": 82,
   "metadata": {},
   "outputs": [],
   "source": [
    "from sklearn.neighbors import KNeighborsRegressor\n",
    "\n",
    "knn=KNeighborsRegressor(n_neighbors=7)\n",
    "knn.fit(X_train, y_train)\n",
    "y_pred_knn=knn.predict(X_test)\n"
   ]
  },
  {
   "cell_type": "code",
   "execution_count": 83,
   "metadata": {},
   "outputs": [
    {
     "data": {
      "text/plain": [
       "0.24200554077381542"
      ]
     },
     "execution_count": 83,
     "metadata": {},
     "output_type": "execute_result"
    }
   ],
   "source": [
    "from sklearn.metrics import r2_score\n",
    "r2_score(y_test, y_pred_knn)"
   ]
  },
  {
   "cell_type": "code",
   "execution_count": 84,
   "metadata": {},
   "outputs": [
    {
     "name": "stderr",
     "output_type": "stream",
     "text": [
      "<ipython-input-84-53e9c7c906a5>:2: SettingWithCopyWarning: \n",
      "A value is trying to be set on a copy of a slice from a DataFrame.\n",
      "Try using .loc[row_indexer,col_indexer] = value instead\n",
      "\n",
      "See the caveats in the documentation: https://pandas.pydata.org/pandas-docs/stable/user_guide/indexing.html#returning-a-view-versus-a-copy\n",
      "  X_test['actual_price']=y_test\n",
      "<ipython-input-84-53e9c7c906a5>:3: SettingWithCopyWarning: \n",
      "A value is trying to be set on a copy of a slice from a DataFrame.\n",
      "Try using .loc[row_indexer,col_indexer] = value instead\n",
      "\n",
      "See the caveats in the documentation: https://pandas.pydata.org/pandas-docs/stable/user_guide/indexing.html#returning-a-view-versus-a-copy\n",
      "  X_test['predictions']=predicted_knn\n",
      "<ipython-input-84-53e9c7c906a5>:5: SettingWithCopyWarning: \n",
      "A value is trying to be set on a copy of a slice from a DataFrame.\n",
      "Try using .loc[row_indexer,col_indexer] = value instead\n",
      "\n",
      "See the caveats in the documentation: https://pandas.pydata.org/pandas-docs/stable/user_guide/indexing.html#returning-a-view-versus-a-copy\n",
      "  X_test['Body']=car_data2['Body']\n",
      "<ipython-input-84-53e9c7c906a5>:6: SettingWithCopyWarning: \n",
      "A value is trying to be set on a copy of a slice from a DataFrame.\n",
      "Try using .loc[row_indexer,col_indexer] = value instead\n",
      "\n",
      "See the caveats in the documentation: https://pandas.pydata.org/pandas-docs/stable/user_guide/indexing.html#returning-a-view-versus-a-copy\n",
      "  X_test['FuelType']=car_data2['FuelType']\n",
      "<ipython-input-84-53e9c7c906a5>:7: SettingWithCopyWarning: \n",
      "A value is trying to be set on a copy of a slice from a DataFrame.\n",
      "Try using .loc[row_indexer,col_indexer] = value instead\n",
      "\n",
      "See the caveats in the documentation: https://pandas.pydata.org/pandas-docs/stable/user_guide/indexing.html#returning-a-view-versus-a-copy\n",
      "  X_test['GearboxType']=car_data2['GearboxType']\n",
      "<ipython-input-84-53e9c7c906a5>:8: SettingWithCopyWarning: \n",
      "A value is trying to be set on a copy of a slice from a DataFrame.\n",
      "Try using .loc[row_indexer,col_indexer] = value instead\n",
      "\n",
      "See the caveats in the documentation: https://pandas.pydata.org/pandas-docs/stable/user_guide/indexing.html#returning-a-view-versus-a-copy\n",
      "  X_test['Color']=car_data2['Color']\n",
      "<ipython-input-84-53e9c7c906a5>:9: SettingWithCopyWarning: \n",
      "A value is trying to be set on a copy of a slice from a DataFrame.\n",
      "Try using .loc[row_indexer,col_indexer] = value instead\n",
      "\n",
      "See the caveats in the documentation: https://pandas.pydata.org/pandas-docs/stable/user_guide/indexing.html#returning-a-view-versus-a-copy\n",
      "  X_test['Mark']=car_data2['Mark']\n",
      "<ipython-input-84-53e9c7c906a5>:10: SettingWithCopyWarning: \n",
      "A value is trying to be set on a copy of a slice from a DataFrame.\n",
      "Try using .loc[row_indexer,col_indexer] = value instead\n",
      "\n",
      "See the caveats in the documentation: https://pandas.pydata.org/pandas-docs/stable/user_guide/indexing.html#returning-a-view-versus-a-copy\n",
      "  X_test['Model']=car_data2['Model']\n"
     ]
    },
    {
     "data": {
      "text/html": [
       "<div>\n",
       "<style scoped>\n",
       "    .dataframe tbody tr th:only-of-type {\n",
       "        vertical-align: middle;\n",
       "    }\n",
       "\n",
       "    .dataframe tbody tr th {\n",
       "        vertical-align: top;\n",
       "    }\n",
       "\n",
       "    .dataframe thead th {\n",
       "        text-align: right;\n",
       "    }\n",
       "</style>\n",
       "<table border=\"1\" class=\"dataframe\">\n",
       "  <thead>\n",
       "    <tr style=\"text-align: right;\">\n",
       "      <th></th>\n",
       "      <th>Mark</th>\n",
       "      <th>Model</th>\n",
       "      <th>Year</th>\n",
       "      <th>EngineSize</th>\n",
       "      <th>FuelType</th>\n",
       "      <th>Body</th>\n",
       "      <th>GearboxType</th>\n",
       "      <th>Mileage</th>\n",
       "      <th>Color</th>\n",
       "      <th>actual_price</th>\n",
       "      <th>predictions</th>\n",
       "    </tr>\n",
       "  </thead>\n",
       "  <tbody>\n",
       "    <tr>\n",
       "      <th>2527</th>\n",
       "      <td>Land</td>\n",
       "      <td>Rover\\tFreelander</td>\n",
       "      <td>2014</td>\n",
       "      <td>2.0</td>\n",
       "      <td>бензин</td>\n",
       "      <td>кроссовер</td>\n",
       "      <td>автомат</td>\n",
       "      <td>59000</td>\n",
       "      <td>синий</td>\n",
       "      <td>9700000</td>\n",
       "      <td>1.645000e+07</td>\n",
       "    </tr>\n",
       "    <tr>\n",
       "      <th>6141</th>\n",
       "      <td>Toyota</td>\n",
       "      <td>Corolla</td>\n",
       "      <td>2011</td>\n",
       "      <td>1.6</td>\n",
       "      <td>бензин</td>\n",
       "      <td>седан</td>\n",
       "      <td>автомат</td>\n",
       "      <td>137500</td>\n",
       "      <td>белый</td>\n",
       "      <td>5400000</td>\n",
       "      <td>4.870000e+06</td>\n",
       "    </tr>\n",
       "    <tr>\n",
       "      <th>5268</th>\n",
       "      <td>Volkswagen</td>\n",
       "      <td>Golf</td>\n",
       "      <td>1997</td>\n",
       "      <td>1.8</td>\n",
       "      <td>бензин</td>\n",
       "      <td>хэтчбек</td>\n",
       "      <td>механика</td>\n",
       "      <td>240000</td>\n",
       "      <td>синий</td>\n",
       "      <td>1700000</td>\n",
       "      <td>5.735714e+06</td>\n",
       "    </tr>\n",
       "    <tr>\n",
       "      <th>7910</th>\n",
       "      <td>Subaru</td>\n",
       "      <td>Tribeca</td>\n",
       "      <td>2007</td>\n",
       "      <td>3.6</td>\n",
       "      <td>бензин</td>\n",
       "      <td>кроссовер</td>\n",
       "      <td>автомат</td>\n",
       "      <td>265983</td>\n",
       "      <td>белый</td>\n",
       "      <td>5250000</td>\n",
       "      <td>3.398571e+06</td>\n",
       "    </tr>\n",
       "    <tr>\n",
       "      <th>3182</th>\n",
       "      <td>Daewoo</td>\n",
       "      <td>Nexia</td>\n",
       "      <td>2013</td>\n",
       "      <td>1.5</td>\n",
       "      <td>бензин</td>\n",
       "      <td>седан</td>\n",
       "      <td>механика</td>\n",
       "      <td>190000</td>\n",
       "      <td>белый</td>\n",
       "      <td>1640000</td>\n",
       "      <td>5.321429e+06</td>\n",
       "    </tr>\n",
       "  </tbody>\n",
       "</table>\n",
       "</div>"
      ],
      "text/plain": [
       "            Mark              Model  Year  EngineSize FuelType       Body  \\\n",
       "2527        Land  Rover\\tFreelander  2014         2.0   бензин  кроссовер   \n",
       "6141      Toyota            Corolla  2011         1.6   бензин      седан   \n",
       "5268  Volkswagen               Golf  1997         1.8   бензин    хэтчбек   \n",
       "7910      Subaru            Tribeca  2007         3.6   бензин  кроссовер   \n",
       "3182      Daewoo              Nexia  2013         1.5   бензин      седан   \n",
       "\n",
       "     GearboxType  Mileage  Color  actual_price   predictions  \n",
       "2527     автомат    59000  синий       9700000  1.645000e+07  \n",
       "6141     автомат   137500  белый       5400000  4.870000e+06  \n",
       "5268    механика   240000  синий       1700000  5.735714e+06  \n",
       "7910     автомат   265983  белый       5250000  3.398571e+06  \n",
       "3182    механика   190000  белый       1640000  5.321429e+06  "
      ]
     },
     "execution_count": 84,
     "metadata": {},
     "output_type": "execute_result"
    }
   ],
   "source": [
    "predicted_knn = knn.predict(X_test)\n",
    "X_test['actual_price']=y_test\n",
    "X_test['predictions']=predicted_knn\n",
    "\n",
    "X_test['Body']=car_data2['Body']\n",
    "X_test['FuelType']=car_data2['FuelType']\n",
    "X_test['GearboxType']=car_data2['GearboxType']\n",
    "X_test['Color']=car_data2['Color']\n",
    "X_test['Mark']=car_data2['Mark']\n",
    "X_test['Model']=car_data2['Model']\n",
    "X_test.head()"
   ]
  },
  {
   "cell_type": "code",
   "execution_count": 85,
   "metadata": {},
   "outputs": [],
   "source": [
    "# directory = \"C:\\\\Users\\\\zaket\\\\OneDrive\\\\Рабочий стол\\\\Kbtu\"\n",
    "# file = 'KNN.xlsx'\n",
    "\n",
    "# if not os.path.exists(directory):\n",
    "#     os.makedirs(directory)\n",
    "\n",
    "# X_test.to_excel(os.path.join(directory, file))"
   ]
  },
  {
   "cell_type": "markdown",
   "metadata": {},
   "source": [
    "# LASSO"
   ]
  },
  {
   "cell_type": "code",
   "execution_count": 86,
   "metadata": {},
   "outputs": [
    {
     "data": {
      "text/plain": [
       "False"
      ]
     },
     "execution_count": 86,
     "metadata": {},
     "output_type": "execute_result"
    }
   ],
   "source": [
    "y_lasso=car_data.Price\n",
    "X_lasso=car_data[['Mark','Model', 'Year', 'EngineSize', 'FuelType', 'Body', 'GearboxType', 'Mileage', 'Color']]\n",
    "np.isnan(X.values.any())"
   ]
  },
  {
   "cell_type": "code",
   "execution_count": 87,
   "metadata": {},
   "outputs": [],
   "source": [
    "from sklearn.model_selection import train_test_split\n",
    "X_train, X_test, y_train, y_test = train_test_split(X_lasso, y_lasso, test_size = 0.2, random_state = 365)"
   ]
  },
  {
   "cell_type": "code",
   "execution_count": 88,
   "metadata": {},
   "outputs": [
    {
     "name": "stdout",
     "output_type": "stream",
     "text": [
      "R_squared : 0.5567774786106192\n",
      "RMSE : 5142146.405951066\n"
     ]
    }
   ],
   "source": [
    "from sklearn.linear_model import Lasso\n",
    "from sklearn.metrics import mean_squared_error\n",
    "\n",
    "lso = Lasso(alpha=1.0)\n",
    "lso.fit(X_train, y_train)\n",
    "y_pred_lso = lso.predict(X_test)\n",
    "\n",
    "\n",
    "r_squared = r2_score(y_test,y_pred_lso)\n",
    "rmse = np.sqrt(mean_squared_error(y_test,y_pred_lso))\n",
    "print(\"R_squared :\",r_squared)\n",
    "print(\"RMSE :\",rmse)"
   ]
  },
  {
   "cell_type": "code",
   "execution_count": 89,
   "metadata": {},
   "outputs": [
    {
     "data": {
      "text/plain": [
       "0.5567774786106192"
      ]
     },
     "execution_count": 89,
     "metadata": {},
     "output_type": "execute_result"
    }
   ],
   "source": [
    "from sklearn.metrics import r2_score\n",
    "r2_score(y_test, y_pred_lso)"
   ]
  },
  {
   "cell_type": "code",
   "execution_count": 90,
   "metadata": {},
   "outputs": [
    {
     "name": "stderr",
     "output_type": "stream",
     "text": [
      "<ipython-input-90-6da9d766f698>:2: SettingWithCopyWarning: \n",
      "A value is trying to be set on a copy of a slice from a DataFrame.\n",
      "Try using .loc[row_indexer,col_indexer] = value instead\n",
      "\n",
      "See the caveats in the documentation: https://pandas.pydata.org/pandas-docs/stable/user_guide/indexing.html#returning-a-view-versus-a-copy\n",
      "  X_test['actual_price']=y_test\n",
      "<ipython-input-90-6da9d766f698>:3: SettingWithCopyWarning: \n",
      "A value is trying to be set on a copy of a slice from a DataFrame.\n",
      "Try using .loc[row_indexer,col_indexer] = value instead\n",
      "\n",
      "See the caveats in the documentation: https://pandas.pydata.org/pandas-docs/stable/user_guide/indexing.html#returning-a-view-versus-a-copy\n",
      "  X_test['predictions']=predicted_lso\n",
      "<ipython-input-90-6da9d766f698>:5: SettingWithCopyWarning: \n",
      "A value is trying to be set on a copy of a slice from a DataFrame.\n",
      "Try using .loc[row_indexer,col_indexer] = value instead\n",
      "\n",
      "See the caveats in the documentation: https://pandas.pydata.org/pandas-docs/stable/user_guide/indexing.html#returning-a-view-versus-a-copy\n",
      "  X_test['Body']=car_data2['Body']\n",
      "<ipython-input-90-6da9d766f698>:6: SettingWithCopyWarning: \n",
      "A value is trying to be set on a copy of a slice from a DataFrame.\n",
      "Try using .loc[row_indexer,col_indexer] = value instead\n",
      "\n",
      "See the caveats in the documentation: https://pandas.pydata.org/pandas-docs/stable/user_guide/indexing.html#returning-a-view-versus-a-copy\n",
      "  X_test['FuelType']=car_data2['FuelType']\n",
      "<ipython-input-90-6da9d766f698>:7: SettingWithCopyWarning: \n",
      "A value is trying to be set on a copy of a slice from a DataFrame.\n",
      "Try using .loc[row_indexer,col_indexer] = value instead\n",
      "\n",
      "See the caveats in the documentation: https://pandas.pydata.org/pandas-docs/stable/user_guide/indexing.html#returning-a-view-versus-a-copy\n",
      "  X_test['GearboxType']=car_data2['GearboxType']\n",
      "<ipython-input-90-6da9d766f698>:8: SettingWithCopyWarning: \n",
      "A value is trying to be set on a copy of a slice from a DataFrame.\n",
      "Try using .loc[row_indexer,col_indexer] = value instead\n",
      "\n",
      "See the caveats in the documentation: https://pandas.pydata.org/pandas-docs/stable/user_guide/indexing.html#returning-a-view-versus-a-copy\n",
      "  X_test['Color']=car_data2['Color']\n",
      "<ipython-input-90-6da9d766f698>:9: SettingWithCopyWarning: \n",
      "A value is trying to be set on a copy of a slice from a DataFrame.\n",
      "Try using .loc[row_indexer,col_indexer] = value instead\n",
      "\n",
      "See the caveats in the documentation: https://pandas.pydata.org/pandas-docs/stable/user_guide/indexing.html#returning-a-view-versus-a-copy\n",
      "  X_test['Mark']=car_data2['Mark']\n",
      "<ipython-input-90-6da9d766f698>:10: SettingWithCopyWarning: \n",
      "A value is trying to be set on a copy of a slice from a DataFrame.\n",
      "Try using .loc[row_indexer,col_indexer] = value instead\n",
      "\n",
      "See the caveats in the documentation: https://pandas.pydata.org/pandas-docs/stable/user_guide/indexing.html#returning-a-view-versus-a-copy\n",
      "  X_test['Model']=car_data2['Model']\n"
     ]
    },
    {
     "data": {
      "text/html": [
       "<div>\n",
       "<style scoped>\n",
       "    .dataframe tbody tr th:only-of-type {\n",
       "        vertical-align: middle;\n",
       "    }\n",
       "\n",
       "    .dataframe tbody tr th {\n",
       "        vertical-align: top;\n",
       "    }\n",
       "\n",
       "    .dataframe thead th {\n",
       "        text-align: right;\n",
       "    }\n",
       "</style>\n",
       "<table border=\"1\" class=\"dataframe\">\n",
       "  <thead>\n",
       "    <tr style=\"text-align: right;\">\n",
       "      <th></th>\n",
       "      <th>Mark</th>\n",
       "      <th>Model</th>\n",
       "      <th>Year</th>\n",
       "      <th>EngineSize</th>\n",
       "      <th>FuelType</th>\n",
       "      <th>Body</th>\n",
       "      <th>GearboxType</th>\n",
       "      <th>Mileage</th>\n",
       "      <th>Color</th>\n",
       "      <th>actual_price</th>\n",
       "      <th>predictions</th>\n",
       "    </tr>\n",
       "  </thead>\n",
       "  <tbody>\n",
       "    <tr>\n",
       "      <th>2527</th>\n",
       "      <td>Land</td>\n",
       "      <td>Rover\\tFreelander</td>\n",
       "      <td>2014</td>\n",
       "      <td>2.0</td>\n",
       "      <td>бензин</td>\n",
       "      <td>кроссовер</td>\n",
       "      <td>автомат</td>\n",
       "      <td>59000</td>\n",
       "      <td>синий</td>\n",
       "      <td>9700000</td>\n",
       "      <td>9.728732e+06</td>\n",
       "    </tr>\n",
       "    <tr>\n",
       "      <th>6141</th>\n",
       "      <td>Toyota</td>\n",
       "      <td>Corolla</td>\n",
       "      <td>2011</td>\n",
       "      <td>1.6</td>\n",
       "      <td>бензин</td>\n",
       "      <td>седан</td>\n",
       "      <td>автомат</td>\n",
       "      <td>137500</td>\n",
       "      <td>белый</td>\n",
       "      <td>5400000</td>\n",
       "      <td>5.078285e+06</td>\n",
       "    </tr>\n",
       "    <tr>\n",
       "      <th>5268</th>\n",
       "      <td>Volkswagen</td>\n",
       "      <td>Golf</td>\n",
       "      <td>1997</td>\n",
       "      <td>1.8</td>\n",
       "      <td>бензин</td>\n",
       "      <td>хэтчбек</td>\n",
       "      <td>механика</td>\n",
       "      <td>240000</td>\n",
       "      <td>синий</td>\n",
       "      <td>1700000</td>\n",
       "      <td>-1.114986e+06</td>\n",
       "    </tr>\n",
       "    <tr>\n",
       "      <th>7910</th>\n",
       "      <td>Subaru</td>\n",
       "      <td>Tribeca</td>\n",
       "      <td>2007</td>\n",
       "      <td>3.6</td>\n",
       "      <td>бензин</td>\n",
       "      <td>кроссовер</td>\n",
       "      <td>автомат</td>\n",
       "      <td>265983</td>\n",
       "      <td>белый</td>\n",
       "      <td>5250000</td>\n",
       "      <td>1.045664e+07</td>\n",
       "    </tr>\n",
       "    <tr>\n",
       "      <th>3182</th>\n",
       "      <td>Daewoo</td>\n",
       "      <td>Nexia</td>\n",
       "      <td>2013</td>\n",
       "      <td>1.5</td>\n",
       "      <td>бензин</td>\n",
       "      <td>седан</td>\n",
       "      <td>механика</td>\n",
       "      <td>190000</td>\n",
       "      <td>белый</td>\n",
       "      <td>1640000</td>\n",
       "      <td>4.823512e+06</td>\n",
       "    </tr>\n",
       "  </tbody>\n",
       "</table>\n",
       "</div>"
      ],
      "text/plain": [
       "            Mark              Model  Year  EngineSize FuelType       Body  \\\n",
       "2527        Land  Rover\\tFreelander  2014         2.0   бензин  кроссовер   \n",
       "6141      Toyota            Corolla  2011         1.6   бензин      седан   \n",
       "5268  Volkswagen               Golf  1997         1.8   бензин    хэтчбек   \n",
       "7910      Subaru            Tribeca  2007         3.6   бензин  кроссовер   \n",
       "3182      Daewoo              Nexia  2013         1.5   бензин      седан   \n",
       "\n",
       "     GearboxType  Mileage  Color  actual_price   predictions  \n",
       "2527     автомат    59000  синий       9700000  9.728732e+06  \n",
       "6141     автомат   137500  белый       5400000  5.078285e+06  \n",
       "5268    механика   240000  синий       1700000 -1.114986e+06  \n",
       "7910     автомат   265983  белый       5250000  1.045664e+07  \n",
       "3182    механика   190000  белый       1640000  4.823512e+06  "
      ]
     },
     "execution_count": 90,
     "metadata": {},
     "output_type": "execute_result"
    }
   ],
   "source": [
    "predicted_lso = lso.predict(X_test)\n",
    "X_test['actual_price']=y_test\n",
    "X_test['predictions']=predicted_lso\n",
    "\n",
    "X_test['Body']=car_data2['Body']\n",
    "X_test['FuelType']=car_data2['FuelType']\n",
    "X_test['GearboxType']=car_data2['GearboxType']\n",
    "X_test['Color']=car_data2['Color']\n",
    "X_test['Mark']=car_data2['Mark']\n",
    "X_test['Model']=car_data2['Model']\n",
    "X_test.head()"
   ]
  },
  {
   "cell_type": "code",
   "execution_count": 91,
   "metadata": {},
   "outputs": [],
   "source": [
    "# directory = \"C:\\\\Users\\\\zaket\\\\OneDrive\\\\Рабочий стол\\\\Kbtu\"\n",
    "# file = 'Lasso.xlsx'\n",
    "\n",
    "# if not os.path.exists(directory):\n",
    "#     os.makedirs(directory)\n",
    "\n",
    "# X_test.to_excel(os.path.join(directory, file))"
   ]
  },
  {
   "cell_type": "markdown",
   "metadata": {},
   "source": [
    "# Ridge"
   ]
  },
  {
   "cell_type": "code",
   "execution_count": 92,
   "metadata": {},
   "outputs": [
    {
     "data": {
      "text/plain": [
       "False"
      ]
     },
     "execution_count": 92,
     "metadata": {},
     "output_type": "execute_result"
    }
   ],
   "source": [
    "y_ridge=car_data.Price\n",
    "X_ridge=car_data[['Mark','Model', 'Year', 'EngineSize', 'FuelType', 'Body', 'GearboxType', 'Mileage', 'Color']]\n",
    "np.isnan(X.values.any())"
   ]
  },
  {
   "cell_type": "code",
   "execution_count": 93,
   "metadata": {},
   "outputs": [],
   "source": [
    "from sklearn.model_selection import train_test_split\n",
    "X_train, X_test, y_train, y_test = train_test_split(X_ridge, y_ridge, test_size = 0.2, random_state = 365)"
   ]
  },
  {
   "cell_type": "code",
   "execution_count": 94,
   "metadata": {},
   "outputs": [
    {
     "name": "stdout",
     "output_type": "stream",
     "text": [
      "R_squared : 0.5567716056233141\n",
      "RMSE : 5142180.474234\n"
     ]
    }
   ],
   "source": [
    "from sklearn.linear_model import Ridge\n",
    "\n",
    "rdg=Ridge(alpha=1.0)\n",
    "rdg.fit(X_train,y_train)\n",
    "\n",
    "y_pred_rdg=rdg.predict(X_test)\n",
    "\n",
    "r_squared = r2_score(y_test,y_pred_rdg)\n",
    "rmse = np.sqrt(mean_squared_error(y_test,y_pred_rdg))\n",
    "print(\"R_squared :\",r_squared)\n",
    "print(\"RMSE :\",rmse)"
   ]
  },
  {
   "cell_type": "code",
   "execution_count": 95,
   "metadata": {},
   "outputs": [
    {
     "name": "stderr",
     "output_type": "stream",
     "text": [
      "<ipython-input-95-1985d2a3d9b4>:2: SettingWithCopyWarning: \n",
      "A value is trying to be set on a copy of a slice from a DataFrame.\n",
      "Try using .loc[row_indexer,col_indexer] = value instead\n",
      "\n",
      "See the caveats in the documentation: https://pandas.pydata.org/pandas-docs/stable/user_guide/indexing.html#returning-a-view-versus-a-copy\n",
      "  X_test['actual_price']=y_test\n",
      "<ipython-input-95-1985d2a3d9b4>:3: SettingWithCopyWarning: \n",
      "A value is trying to be set on a copy of a slice from a DataFrame.\n",
      "Try using .loc[row_indexer,col_indexer] = value instead\n",
      "\n",
      "See the caveats in the documentation: https://pandas.pydata.org/pandas-docs/stable/user_guide/indexing.html#returning-a-view-versus-a-copy\n",
      "  X_test['predictions']=predicted_rdg\n",
      "<ipython-input-95-1985d2a3d9b4>:5: SettingWithCopyWarning: \n",
      "A value is trying to be set on a copy of a slice from a DataFrame.\n",
      "Try using .loc[row_indexer,col_indexer] = value instead\n",
      "\n",
      "See the caveats in the documentation: https://pandas.pydata.org/pandas-docs/stable/user_guide/indexing.html#returning-a-view-versus-a-copy\n",
      "  X_test['Body']=car_data2['Body']\n",
      "<ipython-input-95-1985d2a3d9b4>:6: SettingWithCopyWarning: \n",
      "A value is trying to be set on a copy of a slice from a DataFrame.\n",
      "Try using .loc[row_indexer,col_indexer] = value instead\n",
      "\n",
      "See the caveats in the documentation: https://pandas.pydata.org/pandas-docs/stable/user_guide/indexing.html#returning-a-view-versus-a-copy\n",
      "  X_test['FuelType']=car_data2['FuelType']\n",
      "<ipython-input-95-1985d2a3d9b4>:7: SettingWithCopyWarning: \n",
      "A value is trying to be set on a copy of a slice from a DataFrame.\n",
      "Try using .loc[row_indexer,col_indexer] = value instead\n",
      "\n",
      "See the caveats in the documentation: https://pandas.pydata.org/pandas-docs/stable/user_guide/indexing.html#returning-a-view-versus-a-copy\n",
      "  X_test['GearboxType']=car_data2['GearboxType']\n",
      "<ipython-input-95-1985d2a3d9b4>:8: SettingWithCopyWarning: \n",
      "A value is trying to be set on a copy of a slice from a DataFrame.\n",
      "Try using .loc[row_indexer,col_indexer] = value instead\n",
      "\n",
      "See the caveats in the documentation: https://pandas.pydata.org/pandas-docs/stable/user_guide/indexing.html#returning-a-view-versus-a-copy\n",
      "  X_test['Color']=car_data2['Color']\n",
      "<ipython-input-95-1985d2a3d9b4>:9: SettingWithCopyWarning: \n",
      "A value is trying to be set on a copy of a slice from a DataFrame.\n",
      "Try using .loc[row_indexer,col_indexer] = value instead\n",
      "\n",
      "See the caveats in the documentation: https://pandas.pydata.org/pandas-docs/stable/user_guide/indexing.html#returning-a-view-versus-a-copy\n",
      "  X_test['Mark']=car_data2['Mark']\n",
      "<ipython-input-95-1985d2a3d9b4>:10: SettingWithCopyWarning: \n",
      "A value is trying to be set on a copy of a slice from a DataFrame.\n",
      "Try using .loc[row_indexer,col_indexer] = value instead\n",
      "\n",
      "See the caveats in the documentation: https://pandas.pydata.org/pandas-docs/stable/user_guide/indexing.html#returning-a-view-versus-a-copy\n",
      "  X_test['Model']=car_data2['Model']\n"
     ]
    },
    {
     "data": {
      "text/html": [
       "<div>\n",
       "<style scoped>\n",
       "    .dataframe tbody tr th:only-of-type {\n",
       "        vertical-align: middle;\n",
       "    }\n",
       "\n",
       "    .dataframe tbody tr th {\n",
       "        vertical-align: top;\n",
       "    }\n",
       "\n",
       "    .dataframe thead th {\n",
       "        text-align: right;\n",
       "    }\n",
       "</style>\n",
       "<table border=\"1\" class=\"dataframe\">\n",
       "  <thead>\n",
       "    <tr style=\"text-align: right;\">\n",
       "      <th></th>\n",
       "      <th>Mark</th>\n",
       "      <th>Model</th>\n",
       "      <th>Year</th>\n",
       "      <th>EngineSize</th>\n",
       "      <th>FuelType</th>\n",
       "      <th>Body</th>\n",
       "      <th>GearboxType</th>\n",
       "      <th>Mileage</th>\n",
       "      <th>Color</th>\n",
       "      <th>actual_price</th>\n",
       "      <th>predictions</th>\n",
       "    </tr>\n",
       "  </thead>\n",
       "  <tbody>\n",
       "    <tr>\n",
       "      <th>2527</th>\n",
       "      <td>Land</td>\n",
       "      <td>Rover\\tFreelander</td>\n",
       "      <td>2014</td>\n",
       "      <td>2.0</td>\n",
       "      <td>бензин</td>\n",
       "      <td>кроссовер</td>\n",
       "      <td>автомат</td>\n",
       "      <td>59000</td>\n",
       "      <td>синий</td>\n",
       "      <td>9700000</td>\n",
       "      <td>9.729345e+06</td>\n",
       "    </tr>\n",
       "    <tr>\n",
       "      <th>6141</th>\n",
       "      <td>Toyota</td>\n",
       "      <td>Corolla</td>\n",
       "      <td>2011</td>\n",
       "      <td>1.6</td>\n",
       "      <td>бензин</td>\n",
       "      <td>седан</td>\n",
       "      <td>автомат</td>\n",
       "      <td>137500</td>\n",
       "      <td>белый</td>\n",
       "      <td>5400000</td>\n",
       "      <td>5.078495e+06</td>\n",
       "    </tr>\n",
       "    <tr>\n",
       "      <th>5268</th>\n",
       "      <td>Volkswagen</td>\n",
       "      <td>Golf</td>\n",
       "      <td>1997</td>\n",
       "      <td>1.8</td>\n",
       "      <td>бензин</td>\n",
       "      <td>хэтчбек</td>\n",
       "      <td>механика</td>\n",
       "      <td>240000</td>\n",
       "      <td>синий</td>\n",
       "      <td>1700000</td>\n",
       "      <td>-1.114896e+06</td>\n",
       "    </tr>\n",
       "    <tr>\n",
       "      <th>7910</th>\n",
       "      <td>Subaru</td>\n",
       "      <td>Tribeca</td>\n",
       "      <td>2007</td>\n",
       "      <td>3.6</td>\n",
       "      <td>бензин</td>\n",
       "      <td>кроссовер</td>\n",
       "      <td>автомат</td>\n",
       "      <td>265983</td>\n",
       "      <td>белый</td>\n",
       "      <td>5250000</td>\n",
       "      <td>1.045640e+07</td>\n",
       "    </tr>\n",
       "    <tr>\n",
       "      <th>3182</th>\n",
       "      <td>Daewoo</td>\n",
       "      <td>Nexia</td>\n",
       "      <td>2013</td>\n",
       "      <td>1.5</td>\n",
       "      <td>бензин</td>\n",
       "      <td>седан</td>\n",
       "      <td>механика</td>\n",
       "      <td>190000</td>\n",
       "      <td>белый</td>\n",
       "      <td>1640000</td>\n",
       "      <td>4.823826e+06</td>\n",
       "    </tr>\n",
       "  </tbody>\n",
       "</table>\n",
       "</div>"
      ],
      "text/plain": [
       "            Mark              Model  Year  EngineSize FuelType       Body  \\\n",
       "2527        Land  Rover\\tFreelander  2014         2.0   бензин  кроссовер   \n",
       "6141      Toyota            Corolla  2011         1.6   бензин      седан   \n",
       "5268  Volkswagen               Golf  1997         1.8   бензин    хэтчбек   \n",
       "7910      Subaru            Tribeca  2007         3.6   бензин  кроссовер   \n",
       "3182      Daewoo              Nexia  2013         1.5   бензин      седан   \n",
       "\n",
       "     GearboxType  Mileage  Color  actual_price   predictions  \n",
       "2527     автомат    59000  синий       9700000  9.729345e+06  \n",
       "6141     автомат   137500  белый       5400000  5.078495e+06  \n",
       "5268    механика   240000  синий       1700000 -1.114896e+06  \n",
       "7910     автомат   265983  белый       5250000  1.045640e+07  \n",
       "3182    механика   190000  белый       1640000  4.823826e+06  "
      ]
     },
     "execution_count": 95,
     "metadata": {},
     "output_type": "execute_result"
    }
   ],
   "source": [
    "predicted_rdg = rdg.predict(X_test)\n",
    "X_test['actual_price']=y_test\n",
    "X_test['predictions']=predicted_rdg\n",
    "\n",
    "X_test['Body']=car_data2['Body']\n",
    "X_test['FuelType']=car_data2['FuelType']\n",
    "X_test['GearboxType']=car_data2['GearboxType']\n",
    "X_test['Color']=car_data2['Color']\n",
    "X_test['Mark']=car_data2['Mark']\n",
    "X_test['Model']=car_data2['Model']\n",
    "X_test.head()"
   ]
  },
  {
   "cell_type": "code",
   "execution_count": 96,
   "metadata": {},
   "outputs": [],
   "source": [
    "# directory = \"C:\\\\Users\\\\zaket\\\\OneDrive\\\\Рабочий стол\\\\Kbtu\"\n",
    "# file = 'Ridge.xlsx'\n",
    "\n",
    "# if not os.path.exists(directory):\n",
    "#     os.makedirs(directory)\n",
    "\n",
    "# X_test.to_excel(os.path.join(directory, file))"
   ]
  },
  {
   "cell_type": "markdown",
   "metadata": {},
   "source": [
    "# Linear Regression"
   ]
  },
  {
   "cell_type": "code",
   "execution_count": 97,
   "metadata": {},
   "outputs": [
    {
     "data": {
      "text/plain": [
       "False"
      ]
     },
     "execution_count": 97,
     "metadata": {},
     "output_type": "execute_result"
    }
   ],
   "source": [
    "y_lr=car_data.Price\n",
    "X_lr=car_data[['Mark','Model', 'Year', 'EngineSize', 'FuelType', 'Body', 'GearboxType', 'Mileage', 'Color']]\n",
    "np.isnan(X.values.any())"
   ]
  },
  {
   "cell_type": "code",
   "execution_count": 98,
   "metadata": {},
   "outputs": [],
   "source": [
    "from sklearn.model_selection import train_test_split\n",
    "X_train, X_test, y_train, y_test = train_test_split(X_lr, y_lr, test_size = 0.2, random_state = 365)"
   ]
  },
  {
   "cell_type": "code",
   "execution_count": 99,
   "metadata": {},
   "outputs": [
    {
     "name": "stdout",
     "output_type": "stream",
     "text": [
      "R_squared : 0.5567774964386283\n",
      "RMSE : 5142146.302533223\n"
     ]
    }
   ],
   "source": [
    "from sklearn.linear_model import LinearRegression\n",
    "lr = LinearRegression()\n",
    "\n",
    "# Training Model\n",
    "lr.fit(X_train,y_train)\n",
    "\n",
    "# Model Summary\n",
    "y_pred_lr = lr.predict(X_test)\n",
    "\n",
    "r_squared = r2_score(y_test,y_pred_lr)\n",
    "rmse = np.sqrt(mean_squared_error(y_test,y_pred_lr))\n",
    "print(\"R_squared :\",r_squared)\n",
    "print(\"RMSE :\",rmse)"
   ]
  },
  {
   "cell_type": "code",
   "execution_count": 100,
   "metadata": {},
   "outputs": [
    {
     "data": {
      "text/plain": [
       "0.5567774964386283"
      ]
     },
     "execution_count": 100,
     "metadata": {},
     "output_type": "execute_result"
    }
   ],
   "source": [
    "from sklearn.metrics import r2_score\n",
    "r2_score(y_test, y_pred_lr)"
   ]
  },
  {
   "cell_type": "code",
   "execution_count": 101,
   "metadata": {},
   "outputs": [
    {
     "name": "stderr",
     "output_type": "stream",
     "text": [
      "<ipython-input-101-3046fb043b19>:2: SettingWithCopyWarning: \n",
      "A value is trying to be set on a copy of a slice from a DataFrame.\n",
      "Try using .loc[row_indexer,col_indexer] = value instead\n",
      "\n",
      "See the caveats in the documentation: https://pandas.pydata.org/pandas-docs/stable/user_guide/indexing.html#returning-a-view-versus-a-copy\n",
      "  X_test['actual_price']=y_test\n",
      "<ipython-input-101-3046fb043b19>:3: SettingWithCopyWarning: \n",
      "A value is trying to be set on a copy of a slice from a DataFrame.\n",
      "Try using .loc[row_indexer,col_indexer] = value instead\n",
      "\n",
      "See the caveats in the documentation: https://pandas.pydata.org/pandas-docs/stable/user_guide/indexing.html#returning-a-view-versus-a-copy\n",
      "  X_test['predictions']=predicted_lr\n",
      "<ipython-input-101-3046fb043b19>:5: SettingWithCopyWarning: \n",
      "A value is trying to be set on a copy of a slice from a DataFrame.\n",
      "Try using .loc[row_indexer,col_indexer] = value instead\n",
      "\n",
      "See the caveats in the documentation: https://pandas.pydata.org/pandas-docs/stable/user_guide/indexing.html#returning-a-view-versus-a-copy\n",
      "  X_test['Body']=car_data2['Body']\n",
      "<ipython-input-101-3046fb043b19>:6: SettingWithCopyWarning: \n",
      "A value is trying to be set on a copy of a slice from a DataFrame.\n",
      "Try using .loc[row_indexer,col_indexer] = value instead\n",
      "\n",
      "See the caveats in the documentation: https://pandas.pydata.org/pandas-docs/stable/user_guide/indexing.html#returning-a-view-versus-a-copy\n",
      "  X_test['FuelType']=car_data2['FuelType']\n",
      "<ipython-input-101-3046fb043b19>:7: SettingWithCopyWarning: \n",
      "A value is trying to be set on a copy of a slice from a DataFrame.\n",
      "Try using .loc[row_indexer,col_indexer] = value instead\n",
      "\n",
      "See the caveats in the documentation: https://pandas.pydata.org/pandas-docs/stable/user_guide/indexing.html#returning-a-view-versus-a-copy\n",
      "  X_test['GearboxType']=car_data2['GearboxType']\n",
      "<ipython-input-101-3046fb043b19>:8: SettingWithCopyWarning: \n",
      "A value is trying to be set on a copy of a slice from a DataFrame.\n",
      "Try using .loc[row_indexer,col_indexer] = value instead\n",
      "\n",
      "See the caveats in the documentation: https://pandas.pydata.org/pandas-docs/stable/user_guide/indexing.html#returning-a-view-versus-a-copy\n",
      "  X_test['Color']=car_data2['Color']\n",
      "<ipython-input-101-3046fb043b19>:9: SettingWithCopyWarning: \n",
      "A value is trying to be set on a copy of a slice from a DataFrame.\n",
      "Try using .loc[row_indexer,col_indexer] = value instead\n",
      "\n",
      "See the caveats in the documentation: https://pandas.pydata.org/pandas-docs/stable/user_guide/indexing.html#returning-a-view-versus-a-copy\n",
      "  X_test['Mark']=car_data2['Mark']\n",
      "<ipython-input-101-3046fb043b19>:10: SettingWithCopyWarning: \n",
      "A value is trying to be set on a copy of a slice from a DataFrame.\n",
      "Try using .loc[row_indexer,col_indexer] = value instead\n",
      "\n",
      "See the caveats in the documentation: https://pandas.pydata.org/pandas-docs/stable/user_guide/indexing.html#returning-a-view-versus-a-copy\n",
      "  X_test['Model']=car_data2['Model']\n"
     ]
    },
    {
     "data": {
      "text/html": [
       "<div>\n",
       "<style scoped>\n",
       "    .dataframe tbody tr th:only-of-type {\n",
       "        vertical-align: middle;\n",
       "    }\n",
       "\n",
       "    .dataframe tbody tr th {\n",
       "        vertical-align: top;\n",
       "    }\n",
       "\n",
       "    .dataframe thead th {\n",
       "        text-align: right;\n",
       "    }\n",
       "</style>\n",
       "<table border=\"1\" class=\"dataframe\">\n",
       "  <thead>\n",
       "    <tr style=\"text-align: right;\">\n",
       "      <th></th>\n",
       "      <th>Mark</th>\n",
       "      <th>Model</th>\n",
       "      <th>Year</th>\n",
       "      <th>EngineSize</th>\n",
       "      <th>FuelType</th>\n",
       "      <th>Body</th>\n",
       "      <th>GearboxType</th>\n",
       "      <th>Mileage</th>\n",
       "      <th>Color</th>\n",
       "      <th>actual_price</th>\n",
       "      <th>predictions</th>\n",
       "    </tr>\n",
       "  </thead>\n",
       "  <tbody>\n",
       "    <tr>\n",
       "      <th>2527</th>\n",
       "      <td>Land</td>\n",
       "      <td>Rover\\tFreelander</td>\n",
       "      <td>2014</td>\n",
       "      <td>2.0</td>\n",
       "      <td>бензин</td>\n",
       "      <td>кроссовер</td>\n",
       "      <td>автомат</td>\n",
       "      <td>59000</td>\n",
       "      <td>синий</td>\n",
       "      <td>9700000</td>\n",
       "      <td>9.728731e+06</td>\n",
       "    </tr>\n",
       "    <tr>\n",
       "      <th>6141</th>\n",
       "      <td>Toyota</td>\n",
       "      <td>Corolla</td>\n",
       "      <td>2011</td>\n",
       "      <td>1.6</td>\n",
       "      <td>бензин</td>\n",
       "      <td>седан</td>\n",
       "      <td>автомат</td>\n",
       "      <td>137500</td>\n",
       "      <td>белый</td>\n",
       "      <td>5400000</td>\n",
       "      <td>5.078285e+06</td>\n",
       "    </tr>\n",
       "    <tr>\n",
       "      <th>5268</th>\n",
       "      <td>Volkswagen</td>\n",
       "      <td>Golf</td>\n",
       "      <td>1997</td>\n",
       "      <td>1.8</td>\n",
       "      <td>бензин</td>\n",
       "      <td>хэтчбек</td>\n",
       "      <td>механика</td>\n",
       "      <td>240000</td>\n",
       "      <td>синий</td>\n",
       "      <td>1700000</td>\n",
       "      <td>-1.114986e+06</td>\n",
       "    </tr>\n",
       "    <tr>\n",
       "      <th>7910</th>\n",
       "      <td>Subaru</td>\n",
       "      <td>Tribeca</td>\n",
       "      <td>2007</td>\n",
       "      <td>3.6</td>\n",
       "      <td>бензин</td>\n",
       "      <td>кроссовер</td>\n",
       "      <td>автомат</td>\n",
       "      <td>265983</td>\n",
       "      <td>белый</td>\n",
       "      <td>5250000</td>\n",
       "      <td>1.045664e+07</td>\n",
       "    </tr>\n",
       "    <tr>\n",
       "      <th>3182</th>\n",
       "      <td>Daewoo</td>\n",
       "      <td>Nexia</td>\n",
       "      <td>2013</td>\n",
       "      <td>1.5</td>\n",
       "      <td>бензин</td>\n",
       "      <td>седан</td>\n",
       "      <td>механика</td>\n",
       "      <td>190000</td>\n",
       "      <td>белый</td>\n",
       "      <td>1640000</td>\n",
       "      <td>4.823511e+06</td>\n",
       "    </tr>\n",
       "  </tbody>\n",
       "</table>\n",
       "</div>"
      ],
      "text/plain": [
       "            Mark              Model  Year  EngineSize FuelType       Body  \\\n",
       "2527        Land  Rover\\tFreelander  2014         2.0   бензин  кроссовер   \n",
       "6141      Toyota            Corolla  2011         1.6   бензин      седан   \n",
       "5268  Volkswagen               Golf  1997         1.8   бензин    хэтчбек   \n",
       "7910      Subaru            Tribeca  2007         3.6   бензин  кроссовер   \n",
       "3182      Daewoo              Nexia  2013         1.5   бензин      седан   \n",
       "\n",
       "     GearboxType  Mileage  Color  actual_price   predictions  \n",
       "2527     автомат    59000  синий       9700000  9.728731e+06  \n",
       "6141     автомат   137500  белый       5400000  5.078285e+06  \n",
       "5268    механика   240000  синий       1700000 -1.114986e+06  \n",
       "7910     автомат   265983  белый       5250000  1.045664e+07  \n",
       "3182    механика   190000  белый       1640000  4.823511e+06  "
      ]
     },
     "execution_count": 101,
     "metadata": {},
     "output_type": "execute_result"
    }
   ],
   "source": [
    "predicted_lr = lr.predict(X_test)\n",
    "X_test['actual_price']=y_test\n",
    "X_test['predictions']=predicted_lr\n",
    "\n",
    "X_test['Body']=car_data2['Body']\n",
    "X_test['FuelType']=car_data2['FuelType']\n",
    "X_test['GearboxType']=car_data2['GearboxType']\n",
    "X_test['Color']=car_data2['Color']\n",
    "X_test['Mark']=car_data2['Mark']\n",
    "X_test['Model']=car_data2['Model']\n",
    "X_test.head()"
   ]
  },
  {
   "cell_type": "code",
   "execution_count": 102,
   "metadata": {},
   "outputs": [],
   "source": [
    "directory = \"C:\\\\Users\\\\zaket\\\\OneDrive\\\\Рабочий стол\\\\Kbtu\"\n",
    "file = 'Linear.xlsx'\n",
    "\n",
    "if not os.path.exists(directory):\n",
    "    os.makedirs(directory)\n",
    "\n",
    "X_test.to_excel(os.path.join(directory, file))"
   ]
  },
  {
   "cell_type": "code",
   "execution_count": null,
   "metadata": {},
   "outputs": [],
   "source": []
  }
 ],
 "metadata": {
  "kernelspec": {
   "display_name": "Python 3",
   "language": "python",
   "name": "python3"
  },
  "language_info": {
   "codemirror_mode": {
    "name": "ipython",
    "version": 3
   },
   "file_extension": ".py",
   "mimetype": "text/x-python",
   "name": "python",
   "nbconvert_exporter": "python",
   "pygments_lexer": "ipython3",
   "version": "3.8.5"
  }
 },
 "nbformat": 4,
 "nbformat_minor": 4
}
