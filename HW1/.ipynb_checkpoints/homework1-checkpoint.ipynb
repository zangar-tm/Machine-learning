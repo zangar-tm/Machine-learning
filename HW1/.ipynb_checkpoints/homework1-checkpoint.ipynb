{
 "cells": [
  {
   "cell_type": "code",
   "execution_count": 1,
   "metadata": {},
   "outputs": [],
   "source": [
    "import re\n",
    "import numpy as np\n",
    "import pandas as pd \n",
    "import scipy\n",
    "from scipy import spatial\n",
    "from scipy.spatial.distance import cosine"
   ]
  },
  {
   "cell_type": "code",
   "execution_count": 2,
   "metadata": {},
   "outputs": [],
   "source": [
    "# Скачайте файл с предложениями (sentences.txt).\n",
    "sents = open('./sentences.txt','r')"
   ]
  },
  {
   "cell_type": "code",
   "execution_count": 3,
   "metadata": {},
   "outputs": [],
   "source": [
    "# Каждая строка в файле соответствует одному предложению. Считайте их, приведите каждую к нижнему регистру с помощью строковой функции lower().\n",
    "# Произведите токенизацию, то есть разбиение текстов на слова. Для этого можно воспользоваться регулярным выражением, которое считает разделителем любой символ, не являющийся буквой: re.split('[^a-z]', t). Не забудьте удалить пустые слова после разделения.\n",
    "a = set()\n",
    "arr_line = []\n",
    "line_cnt = 0\n",
    "for line in sents:\n",
    "    line_cnt+=1\n",
    "    arr_line.append(line)\n",
    "    someline = line.lower()\n",
    "    split_line = re.split('[^a-z]', someline)\n",
    "    split_words = ' '.join(split_line).split()\n",
    "    for words in split_words:\n",
    "        a.add(words)\n",
    "len_a = len(a)\n"
   ]
  },
  {
   "cell_type": "code",
   "execution_count": 5,
   "metadata": {},
   "outputs": [
    {
     "data": {
      "text/plain": [
       "'domestication'"
      ]
     },
     "execution_count": 5,
     "metadata": {},
     "output_type": "execute_result"
    }
   ],
   "source": [
    "n = 0\n",
    "st = \"\"\n",
    "for i in a:\n",
    "    if len(i)>n:\n",
    "        n = len(i)\n",
    "        st = i\n",
    "st"
   ]
  },
  {
   "cell_type": "code",
   "execution_count": 8,
   "metadata": {},
   "outputs": [],
   "source": [
    "# Составьте список всех слов, встречающихся в предложениях. Сопоставьте каждому слову индекс от нуля до (d - 1), где d — число различных слов в предложениях. Для этого удобно воспользоваться структурой dict.\n",
    "dic = {}\n",
    "c = 0\n",
    "for i in a:\n",
    "    if(i not in dic):\n",
    "        dic[c]=i\n",
    "        c+=1\n",
    "arr_dic = list(dic.values())"
   ]
  },
  {
   "cell_type": "code",
   "execution_count": null,
   "metadata": {},
   "outputs": [],
   "source": []
  },
  {
   "cell_type": "code",
   "execution_count": 56,
   "metadata": {},
   "outputs": [],
   "source": [
    "# Создайте матрицу размера n * d, где n — число предложений. Заполните ее: элемент с индексом (i, j) в этой матрице должен быть равен количеству вхождений j-го слова в i-е предложение. У вас должна получиться матрица размера 22 * 254.\n",
    "my_matrix = np.zeros([line_cnt, len_a])\n",
    "for i in arr_line:\n",
    "    c = 0\n",
    "    for j in arr_dic:\n",
    "        c = i.count(j)\n",
    "        my_matrix[arr_line.index(i)][arr_dic.index(j)] = c\n",
    "df = pd.DataFrame(my_matrix) "
   ]
  },
  {
   "cell_type": "code",
   "execution_count": 61,
   "metadata": {},
   "outputs": [
    {
     "name": "stdout",
     "output_type": "stream",
     "text": [
      "0.8876321416321971\n",
      "0.7900987685194832\n",
      "0.8281899646285995\n",
      "0.8915558282417286\n",
      "0.8616013846439805\n",
      "0.8449389927846941\n",
      "0.8085563931230865\n",
      "0.8764738738906614\n",
      "0.8330106902290283\n",
      "0.8\n",
      "0.8196531849890459\n",
      "0.812077153237039\n",
      "0.86194291277385\n",
      "0.8467564443272684\n",
      "0.840832558454579\n",
      "0.8812554198895789\n",
      "0.8267962137527299\n",
      "0.8685650246763547\n",
      "0.8174872175805683\n",
      "0.8585837408058993\n",
      "0.8267540335004897\n"
     ]
    }
   ],
   "source": [
    "# Найдите косинусное расстояние от предложения в самой первой строке (In comparison to dogs, cats have not undergone...) до всех остальных с помощью собственной функции косинусного расстояния( можно использовать библиотеку numpy). Какие номера у двух предложений, ближайших к нему по этому расстоянию (строки нумеруются с нуля)? Эти два числа и будут ответами на задание. Само предложение (In comparison to dogs, cats have not undergone... ) имеет индекс 0.\n",
    "# Запишите полученные числа в ответ, разделив пробелом.\n",
    "\n",
    "def cos_distance(x,y):\n",
    "    return 1-scipy.spatial.distance.cosine(x,y)         \n",
    "  \n",
    "for i in range(1, my_matrix.shape[0]):\n",
    "    print(cos_distance(my_matrix[0],my_matrix[i]))\n",
    "\n",
    "\n",
    "# ANSWERS:\n",
    "# 0.8876321416321971 0.7900987685194832 0.8281899646285995 0.8915558282417286 0.8616013846439805 0.8449389927846941\n",
    "# 0.8085563931230865 0.8764738738906614 0.8330106902290283 0.8                0.8196531849890459 0.812077153237039 \n",
    "# 0.86194291277385   0.8467564443272684 0.840832558454579 0.8812554198895789 0.8267962137527299 0.8685650246763547 \n",
    "# 0.8174872175805683 0.8585837408058993 0.8267540335004897"
   ]
  },
  {
   "cell_type": "code",
   "execution_count": 62,
   "metadata": {},
   "outputs": [],
   "source": [
    "# Task 2 (Done with Teammates)\n",
    "# Cosine distance is not a proper metric, because it does not always satisfy the the requirements of triangle ineqality.\n",
    "# Here is an example of condition when the requirements does not hold for inequality\n",
    "# d_cosine(x1,x3)!<=d_cosine(x1,x2)+d_cosine(x2,x3);\n",
    "# x1=(1,0),\n",
    "# x2=(sqrt(2)/2,sqrt(2)/2),\n",
    "# x3=(0,1)\n",
    "# d_cosine(x1,x3)=1-(x1*x3)/(|x1|*|x3|)\n",
    "# 1-(x1*x3)/(|x1|*|x3|)!<=1-(x1*x2)/(|x1|*|x2|)+1-(x2*x3)/(|x2|*|x3|)\n",
    "# 1-(x1*x3)/(|x1|*|x3|)>2-(x1*x2)/(|x1|*|x2|)-(x2*x3)/(|x2|*|x3|)\n",
    "# 1-0/sqrt(1)*sqrt(1)>2-sqrt(2)/2-sqrt(2)/2\n",
    "# 1>2-sqrt(2)\n",
    "# 1<1.41"
   ]
  },
  {
   "cell_type": "code",
   "execution_count": null,
   "metadata": {},
   "outputs": [],
   "source": []
  }
 ],
 "metadata": {
  "kernelspec": {
   "display_name": "Python 3",
   "language": "python",
   "name": "python3"
  },
  "language_info": {
   "codemirror_mode": {
    "name": "ipython",
    "version": 3
   },
   "file_extension": ".py",
   "mimetype": "text/x-python",
   "name": "python",
   "nbconvert_exporter": "python",
   "pygments_lexer": "ipython3",
   "version": "3.8.5"
  }
 },
 "nbformat": 4,
 "nbformat_minor": 4
}
